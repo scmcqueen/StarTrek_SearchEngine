{
 "cells": [
  {
   "cell_type": "markdown",
   "metadata": {},
   "source": [
    "# Notebook to Write Qualtrics Surveys"
   ]
  },
  {
   "cell_type": "code",
   "execution_count": 3,
   "metadata": {},
   "outputs": [],
   "source": [
    "import pandas\n",
    "import numpy\n",
    "import simple_search_func as ss\n",
    "import re\n",
    "import csv\n",
    "import json"
   ]
  },
  {
   "cell_type": "code",
   "execution_count": null,
   "metadata": {},
   "outputs": [],
   "source": [
    "# Load up the qsf!\n",
    "with open('Star_Trek_Fillable.qsf', 'r') as file:\n",
    "    data = json.load(file)"
   ]
  },
  {
   "cell_type": "code",
   "execution_count": 85,
   "metadata": {},
   "outputs": [
    {
     "data": {
      "text/plain": [
       "{'QuestionText': 'Rank these based on relevance to the query \"QUERY1\"',\n",
       " 'DefaultChoices': False,\n",
       " 'DataExportTag': 'Q2',\n",
       " 'QuestionID': 'QID1',\n",
       " 'QuestionType': 'PGR',\n",
       " 'Selector': 'DragAndDrop',\n",
       " 'SubSelector': 'NoColumns',\n",
       " 'DataVisibility': {'Private': False, 'Hidden': False},\n",
       " 'Configuration': {'QuestionDescriptionOption': 'UseText',\n",
       "  'Stack': False,\n",
       "  'StackItemsInGroups': False},\n",
       " 'QuestionDescription': 'Rank these based on relevance to the query \"QUERY1\"',\n",
       " 'Choices': {'1': {'Display': 'Click to write Item 1'},\n",
       "  '2': {'Display': 'Click to write Item 2'},\n",
       "  '3': {'Display': 'Click to write Item 3'},\n",
       "  '4': {'Display': 'Click to write Item 4'},\n",
       "  '5': {'Display': 'Click to write Item 5'},\n",
       "  '6': {'Display': 'Click to write Item 6'},\n",
       "  '7': {'Display': 'Click to write Item 7'},\n",
       "  '8': {'Display': 'Click to write Item 8'},\n",
       "  '9': {'Display': 'Click to write Item 9'},\n",
       "  '10': {'Display': 'Click to write Item 10'},\n",
       "  '11': {'Display': 'Click to write Item 11'},\n",
       "  '12': {'Display': 'Click to write Item 12'},\n",
       "  '13': {'Display': 'Click to write Item 13'},\n",
       "  '14': {'Display': 'Click to write Item 14'},\n",
       "  '15': {'Display': 'Click to write Item 15'},\n",
       "  '16': {'Display': 'Click to write Item 16'},\n",
       "  '17': {'Display': 'Click to write Item 17'},\n",
       "  '18': {'Display': 'Click to write Item 18'},\n",
       "  '19': {'Display': 'Click to write Item 19'},\n",
       "  '20': {'Display': 'Click to write Item 20'}},\n",
       " 'ChoiceOrder': [1,\n",
       "  2,\n",
       "  3,\n",
       "  4,\n",
       "  5,\n",
       "  6,\n",
       "  7,\n",
       "  8,\n",
       "  9,\n",
       "  10,\n",
       "  11,\n",
       "  12,\n",
       "  13,\n",
       "  14,\n",
       "  15,\n",
       "  16,\n",
       "  17,\n",
       "  18,\n",
       "  19,\n",
       "  20],\n",
       " 'Validation': {'Settings': {'ForceResponse': 'OFF', 'Type': 'None'}},\n",
       " 'GradingData': [],\n",
       " 'Language': [],\n",
       " 'NextChoiceId': 21,\n",
       " 'NextAnswerId': 3,\n",
       " 'Groups': ['Relevant (in order of relevance)', 'Irrelevant'],\n",
       " 'NumberOfGroups': 2}"
      ]
     },
     "execution_count": 85,
     "metadata": {},
     "output_type": "execute_result"
    }
   ],
   "source": [
    "# for question in data['SurveyElements']: # each type is a dict\n",
    "data['SurveyElements'][8]['Payload'] #'TertiaryAttribute', 'Payload'\n",
    "# need to reset SurveyID for each item!\n",
    "# starting with item 8 - if 'QuestionType': 'PGR',\n",
    "#       update Secondary Attribute: replace whatever is in \"\"\n",
    "#       update ['Payload']['QuestionText'] replace whatever is in \"\"\n",
    "#       update ['Payload']['Choices'] to be a dict of strings 1-20 as keys -- '4': {'Display': 'Click to write Item 4'},\n",
    "#       ['Payload']['NextChoiceId']  to have 1 more than the number of choices\n",
    "# If question type is 'RO'\n",
    "#       update Secondary Attribute: replace whatever is in \"\"\n",
    "#       update ['Payload']['QuestionText'] replace whatever is in \"\""
   ]
  },
  {
   "cell_type": "code",
   "execution_count": 87,
   "metadata": {},
   "outputs": [
    {
     "data": {
      "text/plain": [
       "{'1': {'Display': 'meow'},\n",
       " '2': {'Display': 'meow meow'},\n",
       " '3': {'Display': 'meowwww'}}"
      ]
     },
     "execution_count": 87,
     "metadata": {},
     "output_type": "execute_result"
    }
   ],
   "source": [
    "choices_dict = {'love':['hello','hi','are you'],'sadness':['meow','meow meow','meowwww']}\n",
    "text='sadness'\n",
    "choices = choices_dict[text]\n",
    "new_choices = {str(x+1):{'Display': choices[x]} for x in range(len(choices))}\n",
    "new_choices"
   ]
  },
  {
   "cell_type": "code",
   "execution_count": null,
   "metadata": {},
   "outputs": [],
   "source": [
    "choices_dict = {\n",
    "    'love': ['hello', 'hi', 'are you', 'darling', 'sweetheart', 'honey', 'romance', 'affection', 'passion', 'devotion', \n",
    "             'adore', 'cherish', 'fondness', 'embrace', 'beloved', 'cuddle', 'valentine', 'kiss', 'heart', 'soulmate'],\n",
    "    'sadness': ['meow', 'meow meow', 'meowwww', 'tears', 'gloom', 'despair', 'melancholy', 'sorrow', 'blue', 'grief', \n",
    "                'heartache', 'mourn', 'loneliness', 'misery', 'pain', 'regret', 'weep', 'hurt', 'lost', 'downcast'],\n",
    "    'kiss': ['smoocher', 'kombucher', 'peck', 'smooch', 'liplock', 'mwah', 'pucker', 'osculation', 'romantic', 'passionate',\n",
    "             'sweet', 'gentle', 'soft', 'warm', 'butterfly', 'cheek', 'forehead', 'eskimo', 'lovebite', 'chaste'],\n",
    "    'happiness': ['joy', 'smile', 'laughter', 'cheer', 'delight', 'bliss', 'glee', 'ecstatic', 'merry', 'euphoria', \n",
    "                  'sunny', 'content', 'radiant', 'jubilant', 'bubbly', 'grateful', 'optimistic', 'carefree', 'vivacious', 'buoyant'],\n",
    "    'anger': ['rage', 'fury', 'wrath', 'outrage', 'resentment', 'bitterness', 'spite', 'grudge', 'irritation', 'annoyance',\n",
    "              'exasperation', 'hostility', 'hatred', 'indignation', 'fuming', 'seething', 'mad', 'infuriated', 'irate', 'tempest'],\n",
    "    'fear': ['terror', 'panic', 'dread', 'fright', 'horror', 'alarm', 'anxiety', 'nervous', 'uneasy', 'apprehension',\n",
    "             'timid', 'startle', 'tremble', 'phobia', 'shiver', 'quiver', 'spooked', 'petrified', 'chill', 'paranoia'],\n",
    "    'surprise': ['shock', 'amazement', 'astonishment', 'wonder', 'startled', 'stunned', 'flabbergasted', 'aghast', 'dumbfounded', 'jolted',\n",
    "                 'marvel', 'unexpected', 'perplexed', 'bewildered', 'gobsmacked', 'astounded', 'overwhelmed', 'speechless', 'baffled', 'staggered'],\n",
    "    'friendship': ['bond', 'companion', 'ally', 'trust', 'loyal', 'camaraderie', 'mate', 'bro', 'sisterhood', 'brotherhood',\n",
    "                   'affection', 'partnership', 'support', 'understanding', 'team', 'respect', 'connect', 'harmony', 'together', 'kindred'],\n",
    "    'jealousy': ['envy', 'resent', 'covet', 'green-eyed', 'possessive', 'suspicion', 'mistrust', 'distrust', 'bitterness', 'spite',\n",
    "                 'comparison', 'insecurity', 'longing', 'competitiveness', 'inferiority', 'grudge', 'fuming', 'anger', 'watchful', 'wary'],\n",
    "    'nostalgia': ['memories', 'past', 'bittersweet', 'longing', 'reminisce', 'yearning', 'flashback', 'old days', 'sentimental', 'melancholy',\n",
    "                  'childhood', 'throwback', 'wistful', 'retro', 'antique', 'classic', 'golden days', 'vintage', 'heartwarming', 'timeless']\n",
    "}\n",
    "\n",
    "topics = list(choices_dict.keys())# will be dict keys\n",
    "c_topics = topics.copy()\n",
    "surveyid = 'newstring'\n",
    "\n",
    "# iterate\n",
    "for x in data['SurveyElements']:\n",
    "    if type(x['Payload']) != dict:\n",
    "        continue\n",
    "    if 'QuestionType' not in x['Payload'].keys():\n",
    "        continue\n",
    "    x['SurveyID']= surveyid\n",
    "    if x['Payload']['QuestionType']=='PGR': # group rank, influences others\n",
    "        text = topics.pop()\n",
    "        old_text = x['SecondaryAttribute']\n",
    "        new_q = re.sub(r'\"(.*?)\"', f'\"{old_text}\"', text)\n",
    "        x['Payload']['QuestionDescription']= new_q\n",
    "        x['SecondaryAttribute'] = new_q\n",
    "        x['Payload']['QuestionText']= new_q\n",
    "        choices = choices_dict[text]\n",
    "        new_choices = {str(x+1):{'Display': choices[x]} for x in range(len(choices))}\n",
    "        x['Payload']['Choices']=new_choices\n",
    "    if x['Payload']['QuestionType']=='RO': # rank only, depends on other\n",
    "        # update Secondary Attribute: replace whatever is in \"\"\n",
    "        text = c_topics.pop()\n",
    "        old_text = x['SecondaryAttribute']\n",
    "        new_q = re.sub(r'\"(.*?)\"', f'\"{old_text}\"', text)\n",
    "        x['SecondaryAttribute'] = new_q\n",
    "        # update ['Payload']['QuestionText'] replace whatever is in \"\"\n",
    "        x['Payload']['QuestionText']= new_q\n",
    "        x['Payload']['QuestionDescription']= new_q\n",
    "\n",
    "# save\n",
    "with open('test.qsf', 'w') as json_file:\n",
    "    json.dump(data, json_file) "
   ]
  }
 ],
 "metadata": {
  "kernelspec": {
   "display_name": "si649f23",
   "language": "python",
   "name": "python3"
  },
  "language_info": {
   "codemirror_mode": {
    "name": "ipython",
    "version": 3
   },
   "file_extension": ".py",
   "mimetype": "text/x-python",
   "name": "python",
   "nbconvert_exporter": "python",
   "pygments_lexer": "ipython3",
   "version": "3.11.4"
  }
 },
 "nbformat": 4,
 "nbformat_minor": 2
}
