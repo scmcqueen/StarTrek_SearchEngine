{
 "cells": [
  {
   "cell_type": "markdown",
   "metadata": {},
   "source": [
    "# Learn to Rank\n",
    "https://www.tensorflow.org/ranking/tutorials/quickstart"
   ]
  },
  {
   "cell_type": "markdown",
   "metadata": {},
   "source": [
    "https://www.geeksforgeeks.org/train-a-model-using-lightgbm/#\n",
    "https://gist.github.com/darcyabjones/ace0934ae19c56ed4babc50167f282b0#file-ltr_presentation-ipynb\n",
    "https://hav4ik.github.io/learning-to-rank/"
   ]
  },
  {
   "cell_type": "code",
   "execution_count": 268,
   "metadata": {},
   "outputs": [],
   "source": [
    "import lightgbm as lgb\n",
    "import numpy as np\n",
    "import pandas as pd\n",
    "from sklearn.model_selection import train_test_split\n",
    "from sklearn.metrics import accuracy_score, precision_score, recall_score, f1_score, classification_report\n",
    "from sklearn.datasets import load_breast_cancer\n",
    "import matplotlib.pyplot as plt\n",
    "import seaborn as sns\n",
    "from sklearn.preprocessing import OneHotEncoder, StandardScaler\n",
    "from sklearn.compose import ColumnTransformer"
   ]
  },
  {
   "cell_type": "code",
   "execution_count": 269,
   "metadata": {},
   "outputs": [
    {
     "data": {
      "text/html": [
       "<div>\n",
       "<style scoped>\n",
       "    .dataframe tbody tr th:only-of-type {\n",
       "        vertical-align: middle;\n",
       "    }\n",
       "\n",
       "    .dataframe tbody tr th {\n",
       "        vertical-align: top;\n",
       "    }\n",
       "\n",
       "    .dataframe thead th {\n",
       "        text-align: right;\n",
       "    }\n",
       "</style>\n",
       "<table border=\"1\" class=\"dataframe\">\n",
       "  <thead>\n",
       "    <tr style=\"text-align: right;\">\n",
       "      <th></th>\n",
       "      <th>index</th>\n",
       "      <th>line</th>\n",
       "      <th>character</th>\n",
       "      <th>quote</th>\n",
       "      <th>scene</th>\n",
       "      <th>location</th>\n",
       "      <th>view</th>\n",
       "      <th>episode</th>\n",
       "      <th>date</th>\n",
       "      <th>series</th>\n",
       "      <th>file</th>\n",
       "    </tr>\n",
       "  </thead>\n",
       "  <tbody>\n",
       "    <tr>\n",
       "      <th>0</th>\n",
       "      <td>0</td>\n",
       "      <td>0</td>\n",
       "      <td>QUARK</td>\n",
       "      <td>You know, Morn -- there's nothing quite as inv...</td>\n",
       "      <td>Al   INT. QUARK'S</td>\n",
       "      <td>QUARK'S</td>\n",
       "      <td>INT.</td>\n",
       "      <td>STAR TREK:  DEEP SPACE NINE</td>\n",
       "      <td>1996-08-29</td>\n",
       "      <td>Deep Space Nine</td>\n",
       "      <td>504.txt</td>\n",
       "    </tr>\n",
       "    <tr>\n",
       "      <th>1</th>\n",
       "      <td>1</td>\n",
       "      <td>1</td>\n",
       "      <td>ROM</td>\n",
       "      <td>What's this?</td>\n",
       "      <td>Al   INT. QUARK'S</td>\n",
       "      <td>QUARK'S</td>\n",
       "      <td>INT.</td>\n",
       "      <td>STAR TREK:  DEEP SPACE NINE</td>\n",
       "      <td>1996-08-29</td>\n",
       "      <td>Deep Space Nine</td>\n",
       "      <td>504.txt</td>\n",
       "    </tr>\n",
       "    <tr>\n",
       "      <th>2</th>\n",
       "      <td>2</td>\n",
       "      <td>2</td>\n",
       "      <td>QUARK</td>\n",
       "      <td>What do you mean, \"what's this?\" It's puree of...</td>\n",
       "      <td>Al   INT. QUARK'S</td>\n",
       "      <td>QUARK'S</td>\n",
       "      <td>INT.</td>\n",
       "      <td>STAR TREK:  DEEP SPACE NINE</td>\n",
       "      <td>1996-08-29</td>\n",
       "      <td>Deep Space Nine</td>\n",
       "      <td>504.txt</td>\n",
       "    </tr>\n",
       "    <tr>\n",
       "      <th>3</th>\n",
       "      <td>3</td>\n",
       "      <td>3</td>\n",
       "      <td>ROM</td>\n",
       "      <td>I didn't order it.</td>\n",
       "      <td>Al   INT. QUARK'S</td>\n",
       "      <td>QUARK'S</td>\n",
       "      <td>INT.</td>\n",
       "      <td>STAR TREK:  DEEP SPACE NINE</td>\n",
       "      <td>1996-08-29</td>\n",
       "      <td>Deep Space Nine</td>\n",
       "      <td>504.txt</td>\n",
       "    </tr>\n",
       "    <tr>\n",
       "      <th>4</th>\n",
       "      <td>4</td>\n",
       "      <td>4</td>\n",
       "      <td>QUARK</td>\n",
       "      <td>Of course you \"didn't order it\" -- you don't n...</td>\n",
       "      <td>Al   INT. QUARK'S</td>\n",
       "      <td>QUARK'S</td>\n",
       "      <td>INT.</td>\n",
       "      <td>STAR TREK:  DEEP SPACE NINE</td>\n",
       "      <td>1996-08-29</td>\n",
       "      <td>Deep Space Nine</td>\n",
       "      <td>504.txt</td>\n",
       "    </tr>\n",
       "  </tbody>\n",
       "</table>\n",
       "</div>"
      ],
      "text/plain": [
       "   index  line character                                              quote  \\\n",
       "0      0     0     QUARK  You know, Morn -- there's nothing quite as inv...   \n",
       "1      1     1       ROM                                       What's this?   \n",
       "2      2     2     QUARK  What do you mean, \"what's this?\" It's puree of...   \n",
       "3      3     3       ROM                                 I didn't order it.   \n",
       "4      4     4     QUARK  Of course you \"didn't order it\" -- you don't n...   \n",
       "\n",
       "               scene location  view                      episode        date  \\\n",
       "0  Al   INT. QUARK'S  QUARK'S  INT.  STAR TREK:  DEEP SPACE NINE  1996-08-29   \n",
       "1  Al   INT. QUARK'S  QUARK'S  INT.  STAR TREK:  DEEP SPACE NINE  1996-08-29   \n",
       "2  Al   INT. QUARK'S  QUARK'S  INT.  STAR TREK:  DEEP SPACE NINE  1996-08-29   \n",
       "3  Al   INT. QUARK'S  QUARK'S  INT.  STAR TREK:  DEEP SPACE NINE  1996-08-29   \n",
       "4  Al   INT. QUARK'S  QUARK'S  INT.  STAR TREK:  DEEP SPACE NINE  1996-08-29   \n",
       "\n",
       "            series     file  \n",
       "0  Deep Space Nine  504.txt  \n",
       "1  Deep Space Nine  504.txt  \n",
       "2  Deep Space Nine  504.txt  \n",
       "3  Deep Space Nine  504.txt  \n",
       "4  Deep Space Nine  504.txt  "
      ]
     },
     "execution_count": 269,
     "metadata": {},
     "output_type": "execute_result"
    }
   ],
   "source": [
    "# load up full data\n",
    "complete = pd.read_csv('https://scmcqueen.github.io/StarTrekScriptData/complete_data.csv').reset_index()\n",
    "complete.columns = ['index','line','character', 'quote', 'scene', 'location', 'view',\n",
    "       'episode', 'date', 'series', 'file']\n",
    "complete['quote']=complete['quote'].apply(lambda text: \" \".join(text.split()))\n",
    "complete['character']=complete['character'].fillna('NA')\n",
    "complete['character']=complete['character'].apply(lambda x: x.replace('\"','').replace('\\t',''))\n",
    "complete.head()"
   ]
  },
  {
   "cell_type": "code",
   "execution_count": 270,
   "metadata": {},
   "outputs": [],
   "source": [
    "# load up ratings\n",
    "ratings = pd.read_csv('skyeler_ranking_data.csv',index_col=0)\n"
   ]
  },
  {
   "cell_type": "code",
   "execution_count": 271,
   "metadata": {},
   "outputs": [],
   "source": [
    "# now we need to merge them\n",
    "\n",
    "# drop the quote & unnamed 0\n",
    "ratings.drop(columns=['Unnamed: 0','quote'],inplace=True)\n",
    "ratings.columns = ['index','query','ranking']\n",
    "ratings.ranking = ratings.ranking.apply(lambda z: ratings.ranking.max()+1 if z < 0 else z)\n",
    "full_data = ratings.merge(complete,on=['index'],how='left')"
   ]
  },
  {
   "cell_type": "code",
   "execution_count": 272,
   "metadata": {},
   "outputs": [
    {
     "data": {
      "text/html": [
       "<div>\n",
       "<style scoped>\n",
       "    .dataframe tbody tr th:only-of-type {\n",
       "        vertical-align: middle;\n",
       "    }\n",
       "\n",
       "    .dataframe tbody tr th {\n",
       "        vertical-align: top;\n",
       "    }\n",
       "\n",
       "    .dataframe thead th {\n",
       "        text-align: right;\n",
       "    }\n",
       "</style>\n",
       "<table border=\"1\" class=\"dataframe\">\n",
       "  <thead>\n",
       "    <tr style=\"text-align: right;\">\n",
       "      <th></th>\n",
       "      <th>index</th>\n",
       "      <th>query</th>\n",
       "      <th>ranking</th>\n",
       "      <th>line</th>\n",
       "      <th>character</th>\n",
       "      <th>quote</th>\n",
       "      <th>scene</th>\n",
       "      <th>location</th>\n",
       "      <th>view</th>\n",
       "      <th>episode</th>\n",
       "      <th>date</th>\n",
       "      <th>series</th>\n",
       "      <th>file</th>\n",
       "    </tr>\n",
       "  </thead>\n",
       "  <tbody>\n",
       "    <tr>\n",
       "      <th>0</th>\n",
       "      <td>66191</td>\n",
       "      <td>men</td>\n",
       "      <td>17</td>\n",
       "      <td>333</td>\n",
       "      <td>LARELL</td>\n",
       "      <td>Two men.</td>\n",
       "      <td>34   INT. QUARK'S QUARTERS</td>\n",
       "      <td>QUARK'S QUARTERS</td>\n",
       "      <td>INT.</td>\n",
       "      <td>Who Mourns for Morn?</td>\n",
       "      <td>1997-10-28</td>\n",
       "      <td>Deep Space Nine</td>\n",
       "      <td>536.txt</td>\n",
       "    </tr>\n",
       "    <tr>\n",
       "      <th>1</th>\n",
       "      <td>120092</td>\n",
       "      <td>men</td>\n",
       "      <td>5</td>\n",
       "      <td>171</td>\n",
       "      <td>RIKER</td>\n",
       "      <td>What about the men?</td>\n",
       "      <td>20A  INT. CARGO HOLD</td>\n",
       "      <td>CARGO HOLD</td>\n",
       "      <td>INT.</td>\n",
       "      <td>Up the Long Ladder</td>\n",
       "      <td>1989-03-17</td>\n",
       "      <td>The Next Generation</td>\n",
       "      <td>144.txt</td>\n",
       "    </tr>\n",
       "    <tr>\n",
       "      <th>2</th>\n",
       "      <td>46258</td>\n",
       "      <td>men</td>\n",
       "      <td>1</td>\n",
       "      <td>287</td>\n",
       "      <td>EZRI</td>\n",
       "      <td>Because they're men.</td>\n",
       "      <td>38   INT. QUARK'S - ON SARINA</td>\n",
       "      <td>QUARK'</td>\n",
       "      <td>INT.</td>\n",
       "      <td>Chrysalis</td>\n",
       "      <td>1998-08-14</td>\n",
       "      <td>Deep Space Nine</td>\n",
       "      <td>555.txt</td>\n",
       "    </tr>\n",
       "    <tr>\n",
       "      <th>3</th>\n",
       "      <td>60897</td>\n",
       "      <td>men</td>\n",
       "      <td>17</td>\n",
       "      <td>250</td>\n",
       "      <td>BASHIR</td>\n",
       "      <td>They're your own men.</td>\n",
       "      <td>64   INT. JEM'HADAR CAVERN - DAY</td>\n",
       "      <td>JEM'HADAR CAVER</td>\n",
       "      <td>INT.</td>\n",
       "      <td>Rocks and Shoals</td>\n",
       "      <td>1997-07-24</td>\n",
       "      <td>Deep Space Nine</td>\n",
       "      <td>527.txt</td>\n",
       "    </tr>\n",
       "    <tr>\n",
       "      <th>4</th>\n",
       "      <td>1085</td>\n",
       "      <td>men</td>\n",
       "      <td>17</td>\n",
       "      <td>237</td>\n",
       "      <td>HERBERT</td>\n",
       "      <td>And men from Mars are?</td>\n",
       "      <td>33   INT. MAGAZINE OFFICE - DAY</td>\n",
       "      <td>MAGAZINE OFFIC</td>\n",
       "      <td>INT.</td>\n",
       "      <td>Far Beyond the Stars</td>\n",
       "      <td>1997-11-14</td>\n",
       "      <td>Deep Space Nine</td>\n",
       "      <td>538.txt</td>\n",
       "    </tr>\n",
       "  </tbody>\n",
       "</table>\n",
       "</div>"
      ],
      "text/plain": [
       "    index query  ranking  line character                   quote  \\\n",
       "0   66191   men       17   333    LARELL                Two men.   \n",
       "1  120092   men        5   171     RIKER     What about the men?   \n",
       "2   46258   men        1   287      EZRI    Because they're men.   \n",
       "3   60897   men       17   250    BASHIR   They're your own men.   \n",
       "4    1085   men       17   237   HERBERT  And men from Mars are?   \n",
       "\n",
       "                              scene          location  view  \\\n",
       "0        34   INT. QUARK'S QUARTERS  QUARK'S QUARTERS  INT.   \n",
       "1              20A  INT. CARGO HOLD        CARGO HOLD  INT.   \n",
       "2     38   INT. QUARK'S - ON SARINA            QUARK'  INT.   \n",
       "3  64   INT. JEM'HADAR CAVERN - DAY   JEM'HADAR CAVER  INT.   \n",
       "4   33   INT. MAGAZINE OFFICE - DAY    MAGAZINE OFFIC  INT.   \n",
       "\n",
       "                episode        date               series     file  \n",
       "0  Who Mourns for Morn?  1997-10-28      Deep Space Nine  536.txt  \n",
       "1    Up the Long Ladder  1989-03-17  The Next Generation  144.txt  \n",
       "2             Chrysalis  1998-08-14      Deep Space Nine  555.txt  \n",
       "3      Rocks and Shoals  1997-07-24      Deep Space Nine  527.txt  \n",
       "4  Far Beyond the Stars  1997-11-14      Deep Space Nine  538.txt  "
      ]
     },
     "execution_count": 272,
     "metadata": {},
     "output_type": "execute_result"
    }
   ],
   "source": [
    "full_data.head()"
   ]
  },
  {
   "cell_type": "code",
   "execution_count": 273,
   "metadata": {},
   "outputs": [],
   "source": [
    "# feature engineering\n",
    "full_data['quote_len']=full_data['quote'].apply(lambda z: len(z.split()))\n",
    "\n",
    "quote_count = complete.groupby('character').count()['quote']\n",
    "\n",
    "full_data['total_quotes_char']=full_data['character'].apply(lambda x: quote_count[x])\n"
   ]
  },
  {
   "cell_type": "code",
   "execution_count": 274,
   "metadata": {},
   "outputs": [
    {
     "data": {
      "text/html": [
       "<div>\n",
       "<style scoped>\n",
       "    .dataframe tbody tr th:only-of-type {\n",
       "        vertical-align: middle;\n",
       "    }\n",
       "\n",
       "    .dataframe tbody tr th {\n",
       "        vertical-align: top;\n",
       "    }\n",
       "\n",
       "    .dataframe thead th {\n",
       "        text-align: right;\n",
       "    }\n",
       "</style>\n",
       "<table border=\"1\" class=\"dataframe\">\n",
       "  <thead>\n",
       "    <tr style=\"text-align: right;\">\n",
       "      <th></th>\n",
       "      <th>index</th>\n",
       "      <th>query</th>\n",
       "      <th>ranking</th>\n",
       "      <th>line</th>\n",
       "      <th>character</th>\n",
       "      <th>quote</th>\n",
       "      <th>scene</th>\n",
       "      <th>location</th>\n",
       "      <th>view</th>\n",
       "      <th>episode</th>\n",
       "      <th>date</th>\n",
       "      <th>series</th>\n",
       "      <th>file</th>\n",
       "      <th>quote_len</th>\n",
       "      <th>total_quotes_char</th>\n",
       "    </tr>\n",
       "  </thead>\n",
       "  <tbody>\n",
       "    <tr>\n",
       "      <th>0</th>\n",
       "      <td>66191</td>\n",
       "      <td>men</td>\n",
       "      <td>17</td>\n",
       "      <td>333</td>\n",
       "      <td>LARELL</td>\n",
       "      <td>Two men.</td>\n",
       "      <td>34   INT. QUARK'S QUARTERS</td>\n",
       "      <td>QUARK'S QUARTERS</td>\n",
       "      <td>INT.</td>\n",
       "      <td>Who Mourns for Morn?</td>\n",
       "      <td>1997-10-28</td>\n",
       "      <td>Deep Space Nine</td>\n",
       "      <td>536.txt</td>\n",
       "      <td>2</td>\n",
       "      <td>40</td>\n",
       "    </tr>\n",
       "    <tr>\n",
       "      <th>1</th>\n",
       "      <td>120092</td>\n",
       "      <td>men</td>\n",
       "      <td>5</td>\n",
       "      <td>171</td>\n",
       "      <td>RIKER</td>\n",
       "      <td>What about the men?</td>\n",
       "      <td>20A  INT. CARGO HOLD</td>\n",
       "      <td>CARGO HOLD</td>\n",
       "      <td>INT.</td>\n",
       "      <td>Up the Long Ladder</td>\n",
       "      <td>1989-03-17</td>\n",
       "      <td>The Next Generation</td>\n",
       "      <td>144.txt</td>\n",
       "      <td>4</td>\n",
       "      <td>8138</td>\n",
       "    </tr>\n",
       "    <tr>\n",
       "      <th>2</th>\n",
       "      <td>46258</td>\n",
       "      <td>men</td>\n",
       "      <td>1</td>\n",
       "      <td>287</td>\n",
       "      <td>EZRI</td>\n",
       "      <td>Because they're men.</td>\n",
       "      <td>38   INT. QUARK'S - ON SARINA</td>\n",
       "      <td>QUARK'</td>\n",
       "      <td>INT.</td>\n",
       "      <td>Chrysalis</td>\n",
       "      <td>1998-08-14</td>\n",
       "      <td>Deep Space Nine</td>\n",
       "      <td>555.txt</td>\n",
       "      <td>3</td>\n",
       "      <td>1050</td>\n",
       "    </tr>\n",
       "    <tr>\n",
       "      <th>3</th>\n",
       "      <td>60897</td>\n",
       "      <td>men</td>\n",
       "      <td>17</td>\n",
       "      <td>250</td>\n",
       "      <td>BASHIR</td>\n",
       "      <td>They're your own men.</td>\n",
       "      <td>64   INT. JEM'HADAR CAVERN - DAY</td>\n",
       "      <td>JEM'HADAR CAVER</td>\n",
       "      <td>INT.</td>\n",
       "      <td>Rocks and Shoals</td>\n",
       "      <td>1997-07-24</td>\n",
       "      <td>Deep Space Nine</td>\n",
       "      <td>527.txt</td>\n",
       "      <td>4</td>\n",
       "      <td>5474</td>\n",
       "    </tr>\n",
       "    <tr>\n",
       "      <th>4</th>\n",
       "      <td>1085</td>\n",
       "      <td>men</td>\n",
       "      <td>17</td>\n",
       "      <td>237</td>\n",
       "      <td>HERBERT</td>\n",
       "      <td>And men from Mars are?</td>\n",
       "      <td>33   INT. MAGAZINE OFFICE - DAY</td>\n",
       "      <td>MAGAZINE OFFIC</td>\n",
       "      <td>INT.</td>\n",
       "      <td>Far Beyond the Stars</td>\n",
       "      <td>1997-11-14</td>\n",
       "      <td>Deep Space Nine</td>\n",
       "      <td>538.txt</td>\n",
       "      <td>5</td>\n",
       "      <td>32</td>\n",
       "    </tr>\n",
       "  </tbody>\n",
       "</table>\n",
       "</div>"
      ],
      "text/plain": [
       "    index query  ranking  line character                   quote  \\\n",
       "0   66191   men       17   333    LARELL                Two men.   \n",
       "1  120092   men        5   171     RIKER     What about the men?   \n",
       "2   46258   men        1   287      EZRI    Because they're men.   \n",
       "3   60897   men       17   250    BASHIR   They're your own men.   \n",
       "4    1085   men       17   237   HERBERT  And men from Mars are?   \n",
       "\n",
       "                              scene          location  view  \\\n",
       "0        34   INT. QUARK'S QUARTERS  QUARK'S QUARTERS  INT.   \n",
       "1              20A  INT. CARGO HOLD        CARGO HOLD  INT.   \n",
       "2     38   INT. QUARK'S - ON SARINA            QUARK'  INT.   \n",
       "3  64   INT. JEM'HADAR CAVERN - DAY   JEM'HADAR CAVER  INT.   \n",
       "4   33   INT. MAGAZINE OFFICE - DAY    MAGAZINE OFFIC  INT.   \n",
       "\n",
       "                episode        date               series     file  quote_len  \\\n",
       "0  Who Mourns for Morn?  1997-10-28      Deep Space Nine  536.txt          2   \n",
       "1    Up the Long Ladder  1989-03-17  The Next Generation  144.txt          4   \n",
       "2             Chrysalis  1998-08-14      Deep Space Nine  555.txt          3   \n",
       "3      Rocks and Shoals  1997-07-24      Deep Space Nine  527.txt          4   \n",
       "4  Far Beyond the Stars  1997-11-14      Deep Space Nine  538.txt          5   \n",
       "\n",
       "   total_quotes_char  \n",
       "0                 40  \n",
       "1               8138  \n",
       "2               1050  \n",
       "3               5474  \n",
       "4                 32  "
      ]
     },
     "execution_count": 274,
     "metadata": {},
     "output_type": "execute_result"
    }
   ],
   "source": [
    "full_data.head()"
   ]
  },
  {
   "cell_type": "code",
   "execution_count": 275,
   "metadata": {},
   "outputs": [],
   "source": [
    "# train test split my data\n",
    "train, test = train_test_split(full_data,test_size=.15,random_state=56)\n",
    "# sort my train values\n",
    "train = train.sort_values('query')\n",
    "test = test.sort_values('query')"
   ]
  },
  {
   "cell_type": "code",
   "execution_count": 276,
   "metadata": {},
   "outputs": [],
   "source": [
    "train_y = list(train['ranking']) # made a list instead of series\n",
    "train_X = train.drop(columns=['query','ranking','quote','date','scene','index'])\n",
    "groups = train['query'].value_counts().reset_index().sort_values('query')['count'].values"
   ]
  },
  {
   "cell_type": "code",
   "execution_count": 277,
   "metadata": {},
   "outputs": [
    {
     "data": {
      "text/html": [
       "<div>\n",
       "<style scoped>\n",
       "    .dataframe tbody tr th:only-of-type {\n",
       "        vertical-align: middle;\n",
       "    }\n",
       "\n",
       "    .dataframe tbody tr th {\n",
       "        vertical-align: top;\n",
       "    }\n",
       "\n",
       "    .dataframe thead th {\n",
       "        text-align: right;\n",
       "    }\n",
       "</style>\n",
       "<table border=\"1\" class=\"dataframe\">\n",
       "  <thead>\n",
       "    <tr style=\"text-align: right;\">\n",
       "      <th></th>\n",
       "      <th>line</th>\n",
       "      <th>character</th>\n",
       "      <th>location</th>\n",
       "      <th>view</th>\n",
       "      <th>episode</th>\n",
       "      <th>series</th>\n",
       "      <th>file</th>\n",
       "      <th>quote_len</th>\n",
       "      <th>total_quotes_char</th>\n",
       "    </tr>\n",
       "  </thead>\n",
       "  <tbody>\n",
       "    <tr>\n",
       "      <th>1074</th>\n",
       "      <td>145</td>\n",
       "      <td>COLLINS</td>\n",
       "      <td>VALIAN</td>\n",
       "      <td>INT.</td>\n",
       "      <td>Valiant</td>\n",
       "      <td>Deep Space Nine</td>\n",
       "      <td>546.txt</td>\n",
       "      <td>1</td>\n",
       "      <td>34</td>\n",
       "    </tr>\n",
       "    <tr>\n",
       "      <th>622</th>\n",
       "      <td>274</td>\n",
       "      <td>DATHON</td>\n",
       "      <td>PLANE</td>\n",
       "      <td>EXT.</td>\n",
       "      <td>Darmok</td>\n",
       "      <td>The Next Generation</td>\n",
       "      <td>202.txt</td>\n",
       "      <td>5</td>\n",
       "      <td>54</td>\n",
       "    </tr>\n",
       "  </tbody>\n",
       "</table>\n",
       "</div>"
      ],
      "text/plain": [
       "      line character location  view  episode               series     file  \\\n",
       "1074   145   COLLINS   VALIAN  INT.  Valiant      Deep Space Nine  546.txt   \n",
       "622    274    DATHON    PLANE  EXT.   Darmok  The Next Generation  202.txt   \n",
       "\n",
       "      quote_len  total_quotes_char  \n",
       "1074          1                 34  \n",
       "622           5                 54  "
      ]
     },
     "execution_count": 277,
     "metadata": {},
     "output_type": "execute_result"
    }
   ],
   "source": [
    "train_X.sample(2)"
   ]
  },
  {
   "cell_type": "code",
   "execution_count": 278,
   "metadata": {},
   "outputs": [],
   "source": [
    "num_attribs = list(train_X.select_dtypes(include=[np.number]))  # bill length, bill depth, body mass\n",
    "cat_attribs = list(train_X.select_dtypes(exclude=[np.number]))  # species, island, sex\n",
    "\n",
    "# takes in sequence of tuples\n",
    "full_pipeline = ColumnTransformer([\n",
    "        (\"num\", StandardScaler(), num_attribs),   # scales the numerical attributes down!\n",
    "        (\"cat\", OneHotEncoder(handle_unknown='ignore'), cat_attribs),    # turns the categorical term into a vector\n",
    "    ])\n",
    "\n",
    "train_prep = full_pipeline.fit_transform(train_X)\n"
   ]
  },
  {
   "cell_type": "code",
   "execution_count": 358,
   "metadata": {},
   "outputs": [],
   "source": [
    "num_names = full_pipeline.named_transformers_[\"num\"].get_feature_names_out(num_attribs)\n",
    "cat_names = full_pipeline.named_transformers_[\"cat\"].get_feature_names_out(cat_attribs)\n",
    "total_names = list(num_attribs)+list(cat_names)"
   ]
  },
  {
   "cell_type": "code",
   "execution_count": 279,
   "metadata": {},
   "outputs": [],
   "source": [
    "test_y = list(test['ranking'])\n",
    "test_X = test.drop(columns=['query','ranking','quote','date','scene','index'])\n",
    "t_groups = test['query'].value_counts().reset_index().sort_values('query')['count'].values\n",
    "test_prep = full_pipeline.transform(test_X)"
   ]
  },
  {
   "cell_type": "code",
   "execution_count": 343,
   "metadata": {},
   "outputs": [],
   "source": [
    "train_data =lgb.Dataset(train_prep, label=train_y, group=groups,params={'min_data_in_leaf':1})\n",
    "valid_data = lgb.Dataset(test_prep,label=test_y,group=t_groups)"
   ]
  },
  {
   "cell_type": "code",
   "execution_count": 293,
   "metadata": {},
   "outputs": [
    {
     "data": {
      "text/plain": [
       "array(['character_ADMINISTRATOR', 'character_AKOREM',\n",
       "       'character_ALEXANDER', ..., 'file_572.txt', 'file_574.txt',\n",
       "       'file_575.txt'], dtype=object)"
      ]
     },
     "execution_count": 293,
     "metadata": {},
     "output_type": "execute_result"
    }
   ],
   "source": [
    "full_pipeline['cat'].get_feature_names_out()"
   ]
  },
  {
   "cell_type": "code",
   "execution_count": 349,
   "metadata": {},
   "outputs": [],
   "source": [
    "params = {\n",
    "    'objective': 'lambdarank',\n",
    "    'metric': 'ndcg',\n",
    "    'learning_rate': 0.01,\n",
    "    'num_leaves': 19, # 31\n",
    "    'task':'train',\n",
    "    # 'feature_pre_filter':False,\n",
    "    \"num_leaves\": 255,\n",
    "    \"feature_pre_filter\": False,\n",
    "#   \"min_data_in_leaf\": 1,\n",
    "    'max_depth':40,\n",
    "    'verbose':-1\n",
    "    # 'max_depth':-1\n",
    "}\n",
    "res = {}"
   ]
  },
  {
   "cell_type": "code",
   "execution_count": 350,
   "metadata": {},
   "outputs": [],
   "source": [
    "ranker = lgb.train(params, train_data, num_boost_round=250,valid_sets=[valid_data])"
   ]
  },
  {
   "cell_type": "code",
   "execution_count": 363,
   "metadata": {},
   "outputs": [
    {
     "data": {
      "text/plain": [
       "lightgbm.basic.Booster"
      ]
     },
     "execution_count": 363,
     "metadata": {},
     "output_type": "execute_result"
    }
   ],
   "source": [
    "type(ranker)"
   ]
  },
  {
   "cell_type": "code",
   "execution_count": 352,
   "metadata": {},
   "outputs": [
    {
     "data": {
      "text/plain": [
       "defaultdict(collections.OrderedDict,\n",
       "            {'valid_0': OrderedDict([('ndcg@1', 0.8105639621177936),\n",
       "                          ('ndcg@2', 0.857497945999984),\n",
       "                          ('ndcg@3', 0.9069779981172439),\n",
       "                          ('ndcg@4', 0.917861173204151),\n",
       "                          ('ndcg@5', 0.9236669658616208)])})"
      ]
     },
     "execution_count": 352,
     "metadata": {},
     "output_type": "execute_result"
    }
   ],
   "source": [
    "ranker.best_score"
   ]
  },
  {
   "cell_type": "code",
   "execution_count": 351,
   "metadata": {},
   "outputs": [
    {
     "data": {
      "text/plain": [
       "<Axes: title={'center': 'Feature importance'}, xlabel='Feature importance', ylabel='Features'>"
      ]
     },
     "execution_count": 351,
     "metadata": {},
     "output_type": "execute_result"
    },
    {
     "data": {
      "image/png": "[encoded data removed]",
      "text/plain": [
       "<Figure size 1400x800 with 2 Axes>"
      ]
     },
     "metadata": {},
     "output_type": "display_data"
    }
   ],
   "source": [
    "fig, ax = plt.subplots(1, 2, figsize=(14, 8))\n",
    "lgb.plot_importance(ranker, importance_type='split', ax=ax[0], max_num_features=20)\n",
    "lgb.plot_importance(ranker, importance_type='gain', ax=ax[1], max_num_features=20)"
   ]
  },
  {
   "cell_type": "code",
   "execution_count": 365,
   "metadata": {},
   "outputs": [
    {
     "data": {
      "text/plain": [
       "('line',\n",
       " 'total_quotes_char',\n",
       " 'quote_len',\n",
       " 'series_Deep Space Nine',\n",
       " 'character_RIKER')"
      ]
     },
     "execution_count": 365,
     "metadata": {},
     "output_type": "execute_result"
    }
   ],
   "source": [
    "# Top Features\n",
    "total_names[0], total_names[2], total_names[1], total_names[870],total_names[165]"
   ]
  },
  {
   "cell_type": "markdown",
   "metadata": {},
   "source": [
    "### I built a ranker model!\n",
    "\n",
    "My simple, starting model has been built. The most important features were the line number in the episode ('line'), the total quotes a character has across both series, the length of the quote, the series, and whether the speaker is Riker.\n",
    "\n",
    "Now, I want to functionize this process and add even more features."
   ]
  },
  {
   "cell_type": "markdown",
   "metadata": {},
   "source": [
    "# More Learning2Rank\n",
    "\n",
    "More ideas: Lines per episode, lines per series, sentiment analysis."
   ]
  },
  {
   "cell_type": "code",
   "execution_count": null,
   "metadata": {},
   "outputs": [],
   "source": [
    "def preprocess_data(complete:pd.DataFrame,ratings:pd.DataFrame)->dict:\n",
    "    '''Pre-processes the ranking data.\n",
    "\n",
    "    Returns training data & validation data\n",
    "    '''\n",
    "    output = {} # initialize output dict\n",
    "\n",
    "    # drop unneeded columns\n",
    "    ratings.drop(columns=['Unnamed: 0','quote'],inplace=True)\n",
    "    ratings.columns = ['index','query','ranking']\n",
    "\n",
    "    # replace rankings of 0 to max level (1 is highest ranking)\n",
    "    ratings.ranking = ratings.ranking.apply(lambda z: ratings.ranking.max()+1 if z < 0 else z)\n",
    "\n",
    "    # get the full data & join\n",
    "    full_data = ratings.merge(complete,on=['index'],how='left')\n",
    "\n",
    "    #----------------- FEATURE ENGINEERING -----------------\n",
    "    # length of quote\n",
    "    full_data['quote_len']=full_data['quote'].apply(lambda z: len(z.split()))\n",
    "    # character overall quotes in df\n",
    "    quote_count = complete.groupby('character').count()['quote']\n",
    "    full_data['total_quotes_char']=full_data['character'].apply(lambda x: quote_count[x])"
   ]
  },
  {
   "cell_type": "code",
   "execution_count": 370,
   "metadata": {},
   "outputs": [
    {
     "data": {
      "text/plain": [
       "2175"
      ]
     },
     "execution_count": 370,
     "metadata": {},
     "output_type": "execute_result"
    }
   ],
   "source": [
    "x=complete.groupby(['character','series']).count()['quote']\n",
    "x['WORF','Deep Space Nine']"
   ]
  }
 ],
 "metadata": {
  "kernelspec": {
   "display_name": "base",
   "language": "python",
   "name": "python3"
  },
  "language_info": {
   "codemirror_mode": {
    "name": "ipython",
    "version": 3
   },
   "file_extension": ".py",
   "mimetype": "text/x-python",
   "name": "python",
   "nbconvert_exporter": "python",
   "pygments_lexer": "ipython3",
   "version": "3.12.7"
  }
 },
 "nbformat": 4,
 "nbformat_minor": 2
}
