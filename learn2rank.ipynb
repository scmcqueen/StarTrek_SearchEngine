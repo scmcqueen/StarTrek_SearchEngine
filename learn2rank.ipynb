{
 "cells": [
  {
   "cell_type": "markdown",
   "metadata": {},
   "source": [
    "# Learn to Rank\n",
    "https://www.tensorflow.org/ranking/tutorials/quickstart"
   ]
  },
  {
   "cell_type": "markdown",
   "metadata": {},
   "source": [
    "https://www.geeksforgeeks.org/train-a-model-using-lightgbm/#\n",
    "https://gist.github.com/darcyabjones/ace0934ae19c56ed4babc50167f282b0#file-ltr_presentation-ipynb\n",
    "https://hav4ik.github.io/learning-to-rank/"
   ]
  },
  {
   "cell_type": "code",
   "execution_count": 397,
   "metadata": {},
   "outputs": [],
   "source": [
    "import lightgbm as lgb\n",
    "import numpy as np\n",
    "import pandas as pd\n",
    "from sklearn.model_selection import train_test_split\n",
    "from sklearn.metrics import accuracy_score, precision_score, recall_score, f1_score, classification_report\n",
    "from sklearn.datasets import load_breast_cancer\n",
    "import matplotlib.pyplot as plt\n",
    "import seaborn as sns\n",
    "from sklearn.preprocessing import OneHotEncoder, StandardScaler\n",
    "from sklearn.compose import ColumnTransformer"
   ]
  },
  {
   "cell_type": "code",
   "execution_count": 398,
   "metadata": {},
   "outputs": [
    {
     "data": {
      "text/html": [
       "<div>\n",
       "<style scoped>\n",
       "    .dataframe tbody tr th:only-of-type {\n",
       "        vertical-align: middle;\n",
       "    }\n",
       "\n",
       "    .dataframe tbody tr th {\n",
       "        vertical-align: top;\n",
       "    }\n",
       "\n",
       "    .dataframe thead th {\n",
       "        text-align: right;\n",
       "    }\n",
       "</style>\n",
       "<table border=\"1\" class=\"dataframe\">\n",
       "  <thead>\n",
       "    <tr style=\"text-align: right;\">\n",
       "      <th></th>\n",
       "      <th>index</th>\n",
       "      <th>line</th>\n",
       "      <th>character</th>\n",
       "      <th>quote</th>\n",
       "      <th>scene</th>\n",
       "      <th>location</th>\n",
       "      <th>view</th>\n",
       "      <th>episode</th>\n",
       "      <th>date</th>\n",
       "      <th>series</th>\n",
       "      <th>file</th>\n",
       "    </tr>\n",
       "  </thead>\n",
       "  <tbody>\n",
       "    <tr>\n",
       "      <th>0</th>\n",
       "      <td>0</td>\n",
       "      <td>0</td>\n",
       "      <td>QUARK</td>\n",
       "      <td>You know, Morn -- there's nothing quite as inv...</td>\n",
       "      <td>Al   INT. QUARK'S</td>\n",
       "      <td>QUARK'S</td>\n",
       "      <td>INT.</td>\n",
       "      <td>STAR TREK:  DEEP SPACE NINE</td>\n",
       "      <td>1996-08-29</td>\n",
       "      <td>Deep Space Nine</td>\n",
       "      <td>504.txt</td>\n",
       "    </tr>\n",
       "    <tr>\n",
       "      <th>1</th>\n",
       "      <td>1</td>\n",
       "      <td>1</td>\n",
       "      <td>ROM</td>\n",
       "      <td>What's this?</td>\n",
       "      <td>Al   INT. QUARK'S</td>\n",
       "      <td>QUARK'S</td>\n",
       "      <td>INT.</td>\n",
       "      <td>STAR TREK:  DEEP SPACE NINE</td>\n",
       "      <td>1996-08-29</td>\n",
       "      <td>Deep Space Nine</td>\n",
       "      <td>504.txt</td>\n",
       "    </tr>\n",
       "    <tr>\n",
       "      <th>2</th>\n",
       "      <td>2</td>\n",
       "      <td>2</td>\n",
       "      <td>QUARK</td>\n",
       "      <td>What do you mean, \"what's this?\" It's puree of...</td>\n",
       "      <td>Al   INT. QUARK'S</td>\n",
       "      <td>QUARK'S</td>\n",
       "      <td>INT.</td>\n",
       "      <td>STAR TREK:  DEEP SPACE NINE</td>\n",
       "      <td>1996-08-29</td>\n",
       "      <td>Deep Space Nine</td>\n",
       "      <td>504.txt</td>\n",
       "    </tr>\n",
       "    <tr>\n",
       "      <th>3</th>\n",
       "      <td>3</td>\n",
       "      <td>3</td>\n",
       "      <td>ROM</td>\n",
       "      <td>I didn't order it.</td>\n",
       "      <td>Al   INT. QUARK'S</td>\n",
       "      <td>QUARK'S</td>\n",
       "      <td>INT.</td>\n",
       "      <td>STAR TREK:  DEEP SPACE NINE</td>\n",
       "      <td>1996-08-29</td>\n",
       "      <td>Deep Space Nine</td>\n",
       "      <td>504.txt</td>\n",
       "    </tr>\n",
       "    <tr>\n",
       "      <th>4</th>\n",
       "      <td>4</td>\n",
       "      <td>4</td>\n",
       "      <td>QUARK</td>\n",
       "      <td>Of course you \"didn't order it\" -- you don't n...</td>\n",
       "      <td>Al   INT. QUARK'S</td>\n",
       "      <td>QUARK'S</td>\n",
       "      <td>INT.</td>\n",
       "      <td>STAR TREK:  DEEP SPACE NINE</td>\n",
       "      <td>1996-08-29</td>\n",
       "      <td>Deep Space Nine</td>\n",
       "      <td>504.txt</td>\n",
       "    </tr>\n",
       "  </tbody>\n",
       "</table>\n",
       "</div>"
      ],
      "text/plain": [
       "   index  line character                                              quote  \\\n",
       "0      0     0     QUARK  You know, Morn -- there's nothing quite as inv...   \n",
       "1      1     1       ROM                                       What's this?   \n",
       "2      2     2     QUARK  What do you mean, \"what's this?\" It's puree of...   \n",
       "3      3     3       ROM                                 I didn't order it.   \n",
       "4      4     4     QUARK  Of course you \"didn't order it\" -- you don't n...   \n",
       "\n",
       "               scene location  view                      episode        date  \\\n",
       "0  Al   INT. QUARK'S  QUARK'S  INT.  STAR TREK:  DEEP SPACE NINE  1996-08-29   \n",
       "1  Al   INT. QUARK'S  QUARK'S  INT.  STAR TREK:  DEEP SPACE NINE  1996-08-29   \n",
       "2  Al   INT. QUARK'S  QUARK'S  INT.  STAR TREK:  DEEP SPACE NINE  1996-08-29   \n",
       "3  Al   INT. QUARK'S  QUARK'S  INT.  STAR TREK:  DEEP SPACE NINE  1996-08-29   \n",
       "4  Al   INT. QUARK'S  QUARK'S  INT.  STAR TREK:  DEEP SPACE NINE  1996-08-29   \n",
       "\n",
       "            series     file  \n",
       "0  Deep Space Nine  504.txt  \n",
       "1  Deep Space Nine  504.txt  \n",
       "2  Deep Space Nine  504.txt  \n",
       "3  Deep Space Nine  504.txt  \n",
       "4  Deep Space Nine  504.txt  "
      ]
     },
     "execution_count": 398,
     "metadata": {},
     "output_type": "execute_result"
    }
   ],
   "source": [
    "# load up full data\n",
    "complete = pd.read_csv('https://scmcqueen.github.io/StarTrekScriptData/complete_data.csv').reset_index()\n",
    "complete.columns = ['index','line','character', 'quote', 'scene', 'location', 'view',\n",
    "       'episode', 'date', 'series', 'file']\n",
    "complete['quote']=complete['quote'].apply(lambda text: \" \".join(text.split()))\n",
    "complete['character']=complete['character'].fillna('NA')\n",
    "complete['character']=complete['character'].apply(lambda x: x.replace('\"','').replace('\\t',''))\n",
    "complete.head()"
   ]
  },
  {
   "cell_type": "code",
   "execution_count": 399,
   "metadata": {},
   "outputs": [],
   "source": [
    "# load up ratings\n",
    "ratings = pd.read_csv('skyeler_ranking_data.csv',index_col=0)\n"
   ]
  },
  {
   "cell_type": "code",
   "execution_count": 400,
   "metadata": {},
   "outputs": [],
   "source": [
    "# now we need to merge them\n",
    "\n",
    "# drop the quote & unnamed 0\n",
    "ratings.drop(columns=['Unnamed: 0','quote'],inplace=True)\n",
    "ratings.columns = ['index','query','ranking']\n",
    "ratings.ranking = ratings.ranking.apply(lambda z: ratings.ranking.max()+1 if z < 0 else z)\n",
    "full_data = ratings.merge(complete,on=['index'],how='left')"
   ]
  },
  {
   "cell_type": "code",
   "execution_count": 401,
   "metadata": {},
   "outputs": [
    {
     "data": {
      "text/html": [
       "<div>\n",
       "<style scoped>\n",
       "    .dataframe tbody tr th:only-of-type {\n",
       "        vertical-align: middle;\n",
       "    }\n",
       "\n",
       "    .dataframe tbody tr th {\n",
       "        vertical-align: top;\n",
       "    }\n",
       "\n",
       "    .dataframe thead th {\n",
       "        text-align: right;\n",
       "    }\n",
       "</style>\n",
       "<table border=\"1\" class=\"dataframe\">\n",
       "  <thead>\n",
       "    <tr style=\"text-align: right;\">\n",
       "      <th></th>\n",
       "      <th>index</th>\n",
       "      <th>query</th>\n",
       "      <th>ranking</th>\n",
       "      <th>line</th>\n",
       "      <th>character</th>\n",
       "      <th>quote</th>\n",
       "      <th>scene</th>\n",
       "      <th>location</th>\n",
       "      <th>view</th>\n",
       "      <th>episode</th>\n",
       "      <th>date</th>\n",
       "      <th>series</th>\n",
       "      <th>file</th>\n",
       "    </tr>\n",
       "  </thead>\n",
       "  <tbody>\n",
       "    <tr>\n",
       "      <th>0</th>\n",
       "      <td>87187</td>\n",
       "      <td>memory</td>\n",
       "      <td>4</td>\n",
       "      <td>139</td>\n",
       "      <td>TROI</td>\n",
       "      <td>Memory or... \"nightmare?\"</td>\n",
       "      <td>11   INT. SICKBAY</td>\n",
       "      <td>SICKBAY</td>\n",
       "      <td>INT.</td>\n",
       "      <td>The Battle</td>\n",
       "      <td>1987-09-14</td>\n",
       "      <td>The Next Generation</td>\n",
       "      <td>110.txt</td>\n",
       "    </tr>\n",
       "    <tr>\n",
       "      <th>1</th>\n",
       "      <td>126682</td>\n",
       "      <td>memory</td>\n",
       "      <td>21</td>\n",
       "      <td>100</td>\n",
       "      <td>TROI</td>\n",
       "      <td>His memory is intact.</td>\n",
       "      <td>33   INT. MINTAKA THREE - ASSEMBLY HALL - DAY</td>\n",
       "      <td>MINTAKA THRE</td>\n",
       "      <td>INT.</td>\n",
       "      <td>Who Watches the Watchers</td>\n",
       "      <td>1989-08-07</td>\n",
       "      <td>The Next Generation</td>\n",
       "      <td>152.txt</td>\n",
       "    </tr>\n",
       "    <tr>\n",
       "      <th>2</th>\n",
       "      <td>5313</td>\n",
       "      <td>memory</td>\n",
       "      <td>21</td>\n",
       "      <td>179</td>\n",
       "      <td>KIRA</td>\n",
       "      <td>He wiped the memory core.</td>\n",
       "      <td>70   INT. OPS</td>\n",
       "      <td>OPS</td>\n",
       "      <td>INT.</td>\n",
       "      <td>By Inferno's Light</td>\n",
       "      <td>1996-12-02</td>\n",
       "      <td>Deep Space Nine</td>\n",
       "      <td>513.txt</td>\n",
       "    </tr>\n",
       "    <tr>\n",
       "      <th>3</th>\n",
       "      <td>41426</td>\n",
       "      <td>memory</td>\n",
       "      <td>1</td>\n",
       "      <td>224</td>\n",
       "      <td>ODO</td>\n",
       "      <td>I must have a short memory.</td>\n",
       "      <td>36   INT. HOLOSUITE/VIC'S HOTEL SUITE - NIGHT</td>\n",
       "      <td>HOLOSUITE/VIC'S HOTEL SUIT</td>\n",
       "      <td>INT.</td>\n",
       "      <td>His Way</td>\n",
       "      <td>1998-02-03</td>\n",
       "      <td>Deep Space Nine</td>\n",
       "      <td>544.txt</td>\n",
       "    </tr>\n",
       "    <tr>\n",
       "      <th>4</th>\n",
       "      <td>82790</td>\n",
       "      <td>memory</td>\n",
       "      <td>21</td>\n",
       "      <td>50</td>\n",
       "      <td>PICARD</td>\n",
       "      <td>Memory: save current setting.</td>\n",
       "      <td>15   INT. ENTERPRISE - ENTRANCE TO HOLODECK - ...</td>\n",
       "      <td>ENTERPRIS</td>\n",
       "      <td>INT.</td>\n",
       "      <td>The Big Good-bye</td>\n",
       "      <td>1987-10-14</td>\n",
       "      <td>The Next Generation</td>\n",
       "      <td>113.txt</td>\n",
       "    </tr>\n",
       "  </tbody>\n",
       "</table>\n",
       "</div>"
      ],
      "text/plain": [
       "    index   query  ranking  line character                          quote  \\\n",
       "0   87187  memory        4   139      TROI      Memory or... \"nightmare?\"   \n",
       "1  126682  memory       21   100      TROI          His memory is intact.   \n",
       "2    5313  memory       21   179      KIRA      He wiped the memory core.   \n",
       "3   41426  memory        1   224       ODO    I must have a short memory.   \n",
       "4   82790  memory       21    50    PICARD  Memory: save current setting.   \n",
       "\n",
       "                                               scene  \\\n",
       "0                                  11   INT. SICKBAY   \n",
       "1      33   INT. MINTAKA THREE - ASSEMBLY HALL - DAY   \n",
       "2                                      70   INT. OPS   \n",
       "3      36   INT. HOLOSUITE/VIC'S HOTEL SUITE - NIGHT   \n",
       "4  15   INT. ENTERPRISE - ENTRANCE TO HOLODECK - ...   \n",
       "\n",
       "                     location  view                   episode        date  \\\n",
       "0                     SICKBAY  INT.                The Battle  1987-09-14   \n",
       "1                MINTAKA THRE  INT.  Who Watches the Watchers  1989-08-07   \n",
       "2                         OPS  INT.        By Inferno's Light  1996-12-02   \n",
       "3  HOLOSUITE/VIC'S HOTEL SUIT  INT.                   His Way  1998-02-03   \n",
       "4                   ENTERPRIS  INT.          The Big Good-bye  1987-10-14   \n",
       "\n",
       "                series     file  \n",
       "0  The Next Generation  110.txt  \n",
       "1  The Next Generation  152.txt  \n",
       "2      Deep Space Nine  513.txt  \n",
       "3      Deep Space Nine  544.txt  \n",
       "4  The Next Generation  113.txt  "
      ]
     },
     "execution_count": 401,
     "metadata": {},
     "output_type": "execute_result"
    }
   ],
   "source": [
    "full_data.head()"
   ]
  },
  {
   "cell_type": "code",
   "execution_count": 402,
   "metadata": {},
   "outputs": [],
   "source": [
    "# feature engineering\n",
    "full_data['quote_len']=full_data['quote'].apply(lambda z: len(z.split()))\n",
    "\n",
    "quote_count = complete.groupby('character').count()['quote']\n",
    "\n",
    "full_data['total_quotes_char']=full_data['character'].apply(lambda x: quote_count[x])\n"
   ]
  },
  {
   "cell_type": "code",
   "execution_count": 403,
   "metadata": {},
   "outputs": [
    {
     "data": {
      "text/html": [
       "<div>\n",
       "<style scoped>\n",
       "    .dataframe tbody tr th:only-of-type {\n",
       "        vertical-align: middle;\n",
       "    }\n",
       "\n",
       "    .dataframe tbody tr th {\n",
       "        vertical-align: top;\n",
       "    }\n",
       "\n",
       "    .dataframe thead th {\n",
       "        text-align: right;\n",
       "    }\n",
       "</style>\n",
       "<table border=\"1\" class=\"dataframe\">\n",
       "  <thead>\n",
       "    <tr style=\"text-align: right;\">\n",
       "      <th></th>\n",
       "      <th>index</th>\n",
       "      <th>query</th>\n",
       "      <th>ranking</th>\n",
       "      <th>line</th>\n",
       "      <th>character</th>\n",
       "      <th>quote</th>\n",
       "      <th>scene</th>\n",
       "      <th>location</th>\n",
       "      <th>view</th>\n",
       "      <th>episode</th>\n",
       "      <th>date</th>\n",
       "      <th>series</th>\n",
       "      <th>file</th>\n",
       "      <th>quote_len</th>\n",
       "      <th>total_quotes_char</th>\n",
       "    </tr>\n",
       "  </thead>\n",
       "  <tbody>\n",
       "    <tr>\n",
       "      <th>0</th>\n",
       "      <td>87187</td>\n",
       "      <td>memory</td>\n",
       "      <td>4</td>\n",
       "      <td>139</td>\n",
       "      <td>TROI</td>\n",
       "      <td>Memory or... \"nightmare?\"</td>\n",
       "      <td>11   INT. SICKBAY</td>\n",
       "      <td>SICKBAY</td>\n",
       "      <td>INT.</td>\n",
       "      <td>The Battle</td>\n",
       "      <td>1987-09-14</td>\n",
       "      <td>The Next Generation</td>\n",
       "      <td>110.txt</td>\n",
       "      <td>3</td>\n",
       "      <td>3552</td>\n",
       "    </tr>\n",
       "    <tr>\n",
       "      <th>1</th>\n",
       "      <td>126682</td>\n",
       "      <td>memory</td>\n",
       "      <td>21</td>\n",
       "      <td>100</td>\n",
       "      <td>TROI</td>\n",
       "      <td>His memory is intact.</td>\n",
       "      <td>33   INT. MINTAKA THREE - ASSEMBLY HALL - DAY</td>\n",
       "      <td>MINTAKA THRE</td>\n",
       "      <td>INT.</td>\n",
       "      <td>Who Watches the Watchers</td>\n",
       "      <td>1989-08-07</td>\n",
       "      <td>The Next Generation</td>\n",
       "      <td>152.txt</td>\n",
       "      <td>4</td>\n",
       "      <td>3552</td>\n",
       "    </tr>\n",
       "    <tr>\n",
       "      <th>2</th>\n",
       "      <td>5313</td>\n",
       "      <td>memory</td>\n",
       "      <td>21</td>\n",
       "      <td>179</td>\n",
       "      <td>KIRA</td>\n",
       "      <td>He wiped the memory core.</td>\n",
       "      <td>70   INT. OPS</td>\n",
       "      <td>OPS</td>\n",
       "      <td>INT.</td>\n",
       "      <td>By Inferno's Light</td>\n",
       "      <td>1996-12-02</td>\n",
       "      <td>Deep Space Nine</td>\n",
       "      <td>513.txt</td>\n",
       "      <td>5</td>\n",
       "      <td>5783</td>\n",
       "    </tr>\n",
       "    <tr>\n",
       "      <th>3</th>\n",
       "      <td>41426</td>\n",
       "      <td>memory</td>\n",
       "      <td>1</td>\n",
       "      <td>224</td>\n",
       "      <td>ODO</td>\n",
       "      <td>I must have a short memory.</td>\n",
       "      <td>36   INT. HOLOSUITE/VIC'S HOTEL SUITE - NIGHT</td>\n",
       "      <td>HOLOSUITE/VIC'S HOTEL SUIT</td>\n",
       "      <td>INT.</td>\n",
       "      <td>His Way</td>\n",
       "      <td>1998-02-03</td>\n",
       "      <td>Deep Space Nine</td>\n",
       "      <td>544.txt</td>\n",
       "      <td>6</td>\n",
       "      <td>4995</td>\n",
       "    </tr>\n",
       "    <tr>\n",
       "      <th>4</th>\n",
       "      <td>82790</td>\n",
       "      <td>memory</td>\n",
       "      <td>21</td>\n",
       "      <td>50</td>\n",
       "      <td>PICARD</td>\n",
       "      <td>Memory: save current setting.</td>\n",
       "      <td>15   INT. ENTERPRISE - ENTRANCE TO HOLODECK - ...</td>\n",
       "      <td>ENTERPRIS</td>\n",
       "      <td>INT.</td>\n",
       "      <td>The Big Good-bye</td>\n",
       "      <td>1987-10-14</td>\n",
       "      <td>The Next Generation</td>\n",
       "      <td>113.txt</td>\n",
       "      <td>4</td>\n",
       "      <td>13445</td>\n",
       "    </tr>\n",
       "  </tbody>\n",
       "</table>\n",
       "</div>"
      ],
      "text/plain": [
       "    index   query  ranking  line character                          quote  \\\n",
       "0   87187  memory        4   139      TROI      Memory or... \"nightmare?\"   \n",
       "1  126682  memory       21   100      TROI          His memory is intact.   \n",
       "2    5313  memory       21   179      KIRA      He wiped the memory core.   \n",
       "3   41426  memory        1   224       ODO    I must have a short memory.   \n",
       "4   82790  memory       21    50    PICARD  Memory: save current setting.   \n",
       "\n",
       "                                               scene  \\\n",
       "0                                  11   INT. SICKBAY   \n",
       "1      33   INT. MINTAKA THREE - ASSEMBLY HALL - DAY   \n",
       "2                                      70   INT. OPS   \n",
       "3      36   INT. HOLOSUITE/VIC'S HOTEL SUITE - NIGHT   \n",
       "4  15   INT. ENTERPRISE - ENTRANCE TO HOLODECK - ...   \n",
       "\n",
       "                     location  view                   episode        date  \\\n",
       "0                     SICKBAY  INT.                The Battle  1987-09-14   \n",
       "1                MINTAKA THRE  INT.  Who Watches the Watchers  1989-08-07   \n",
       "2                         OPS  INT.        By Inferno's Light  1996-12-02   \n",
       "3  HOLOSUITE/VIC'S HOTEL SUIT  INT.                   His Way  1998-02-03   \n",
       "4                   ENTERPRIS  INT.          The Big Good-bye  1987-10-14   \n",
       "\n",
       "                series     file  quote_len  total_quotes_char  \n",
       "0  The Next Generation  110.txt          3               3552  \n",
       "1  The Next Generation  152.txt          4               3552  \n",
       "2      Deep Space Nine  513.txt          5               5783  \n",
       "3      Deep Space Nine  544.txt          6               4995  \n",
       "4  The Next Generation  113.txt          4              13445  "
      ]
     },
     "execution_count": 403,
     "metadata": {},
     "output_type": "execute_result"
    }
   ],
   "source": [
    "full_data.head()"
   ]
  },
  {
   "cell_type": "code",
   "execution_count": 404,
   "metadata": {},
   "outputs": [],
   "source": [
    "# train test split my data\n",
    "train, test = train_test_split(full_data,test_size=.15,random_state=56)\n",
    "# sort my train values\n",
    "train = train.sort_values('query')\n",
    "test = test.sort_values('query')"
   ]
  },
  {
   "cell_type": "code",
   "execution_count": 405,
   "metadata": {},
   "outputs": [],
   "source": [
    "train_y = list(train['ranking']) # made a list instead of series\n",
    "train_X = train.drop(columns=['query','ranking','quote','date','scene','index'])\n",
    "groups = train['query'].value_counts().reset_index().sort_values('query')['count'].values"
   ]
  },
  {
   "cell_type": "code",
   "execution_count": 406,
   "metadata": {},
   "outputs": [
    {
     "data": {
      "text/html": [
       "<div>\n",
       "<style scoped>\n",
       "    .dataframe tbody tr th:only-of-type {\n",
       "        vertical-align: middle;\n",
       "    }\n",
       "\n",
       "    .dataframe tbody tr th {\n",
       "        vertical-align: top;\n",
       "    }\n",
       "\n",
       "    .dataframe thead th {\n",
       "        text-align: right;\n",
       "    }\n",
       "</style>\n",
       "<table border=\"1\" class=\"dataframe\">\n",
       "  <thead>\n",
       "    <tr style=\"text-align: right;\">\n",
       "      <th></th>\n",
       "      <th>line</th>\n",
       "      <th>character</th>\n",
       "      <th>location</th>\n",
       "      <th>view</th>\n",
       "      <th>episode</th>\n",
       "      <th>series</th>\n",
       "      <th>file</th>\n",
       "      <th>quote_len</th>\n",
       "      <th>total_quotes_char</th>\n",
       "    </tr>\n",
       "  </thead>\n",
       "  <tbody>\n",
       "    <tr>\n",
       "      <th>36</th>\n",
       "      <td>66</td>\n",
       "      <td>QUARK</td>\n",
       "      <td>QUARK'S ESTABLISHMEN</td>\n",
       "      <td>INT.</td>\n",
       "      <td>Move Along Home</td>\n",
       "      <td>Deep Space Nine</td>\n",
       "      <td>410.txt</td>\n",
       "      <td>7</td>\n",
       "      <td>5038</td>\n",
       "    </tr>\n",
       "    <tr>\n",
       "      <th>1522</th>\n",
       "      <td>42</td>\n",
       "      <td>TROI</td>\n",
       "      <td>TEN FORWARD</td>\n",
       "      <td>INT.</td>\n",
       "      <td>Liaisons</td>\n",
       "      <td>The Next Generation</td>\n",
       "      <td>254.txt</td>\n",
       "      <td>25</td>\n",
       "      <td>3552</td>\n",
       "    </tr>\n",
       "  </tbody>\n",
       "</table>\n",
       "</div>"
      ],
      "text/plain": [
       "      line character              location  view          episode  \\\n",
       "36      66     QUARK  QUARK'S ESTABLISHMEN  INT.  Move Along Home   \n",
       "1522    42      TROI           TEN FORWARD  INT.         Liaisons   \n",
       "\n",
       "                   series     file  quote_len  total_quotes_char  \n",
       "36        Deep Space Nine  410.txt          7               5038  \n",
       "1522  The Next Generation  254.txt         25               3552  "
      ]
     },
     "execution_count": 406,
     "metadata": {},
     "output_type": "execute_result"
    }
   ],
   "source": [
    "train_X.sample(2)"
   ]
  },
  {
   "cell_type": "code",
   "execution_count": 407,
   "metadata": {},
   "outputs": [],
   "source": [
    "num_attribs = list(train_X.select_dtypes(include=[np.number]))  # bill length, bill depth, body mass\n",
    "cat_attribs = list(train_X.select_dtypes(exclude=[np.number]))  # species, island, sex\n",
    "\n",
    "# takes in sequence of tuples\n",
    "full_pipeline = ColumnTransformer([\n",
    "        (\"num\", StandardScaler(), num_attribs),   # scales the numerical attributes down!\n",
    "        (\"cat\", OneHotEncoder(handle_unknown='ignore'), cat_attribs),    # turns the categorical term into a vector\n",
    "    ])\n",
    "\n",
    "train_prep = full_pipeline.fit_transform(train_X)\n"
   ]
  },
  {
   "cell_type": "code",
   "execution_count": 408,
   "metadata": {},
   "outputs": [],
   "source": [
    "num_names = full_pipeline.named_transformers_[\"num\"].get_feature_names_out(num_attribs)\n",
    "cat_names = full_pipeline.named_transformers_[\"cat\"].get_feature_names_out(cat_attribs)\n",
    "total_names = list(num_attribs)+list(cat_names)"
   ]
  },
  {
   "cell_type": "code",
   "execution_count": 409,
   "metadata": {},
   "outputs": [],
   "source": [
    "test_y = list(test['ranking'])\n",
    "test_X = test.drop(columns=['query','ranking','quote','date','scene','index'])\n",
    "t_groups = test['query'].value_counts().reset_index().sort_values('query')['count'].values\n",
    "test_prep = full_pipeline.transform(test_X)"
   ]
  },
  {
   "cell_type": "code",
   "execution_count": 410,
   "metadata": {},
   "outputs": [],
   "source": [
    "train_data =lgb.Dataset(train_prep, label=train_y, group=groups,params={'min_data_in_leaf':1})\n",
    "valid_data = lgb.Dataset(test_prep,label=test_y,group=t_groups)"
   ]
  },
  {
   "cell_type": "code",
   "execution_count": 411,
   "metadata": {},
   "outputs": [
    {
     "data": {
      "text/plain": [
       "array(['character_ADMINISTRATOR', 'character_ADMIRAL HAFTEL',\n",
       "       'character_AKOREM', ..., 'file_573.txt', 'file_574.txt',\n",
       "       'file_575.txt'], dtype=object)"
      ]
     },
     "execution_count": 411,
     "metadata": {},
     "output_type": "execute_result"
    }
   ],
   "source": [
    "full_pipeline['cat'].get_feature_names_out()"
   ]
  },
  {
   "cell_type": "code",
   "execution_count": 412,
   "metadata": {},
   "outputs": [],
   "source": [
    "params = {\n",
    "    'objective': 'lambdarank',\n",
    "    'metric': 'ndcg',\n",
    "    'learning_rate': 0.01,\n",
    "    'num_leaves': 19, # 31\n",
    "    'task':'train',\n",
    "    # 'feature_pre_filter':False,\n",
    "    \"num_leaves\": 255,\n",
    "    \"feature_pre_filter\": False,\n",
    "#   \"min_data_in_leaf\": 1,\n",
    "    'max_depth':40,\n",
    "    'verbose':-1\n",
    "    # 'max_depth':-1\n",
    "}\n",
    "res = {}"
   ]
  },
  {
   "cell_type": "code",
   "execution_count": 413,
   "metadata": {},
   "outputs": [],
   "source": [
    "ranker = lgb.train(params, train_data, num_boost_round=250,valid_sets=[valid_data])"
   ]
  },
  {
   "cell_type": "code",
   "execution_count": 414,
   "metadata": {},
   "outputs": [
    {
     "data": {
      "text/plain": [
       "lightgbm.basic.Booster"
      ]
     },
     "execution_count": 414,
     "metadata": {},
     "output_type": "execute_result"
    }
   ],
   "source": [
    "type(ranker)"
   ]
  },
  {
   "cell_type": "code",
   "execution_count": 415,
   "metadata": {},
   "outputs": [
    {
     "data": {
      "text/plain": [
       "defaultdict(collections.OrderedDict,\n",
       "            {'valid_0': OrderedDict([('ndcg@1', 0.7328314449209828),\n",
       "                          ('ndcg@2', 0.8286188576128938),\n",
       "                          ('ndcg@3', 0.8495349796910845),\n",
       "                          ('ndcg@4', 0.8721611777417747),\n",
       "                          ('ndcg@5', 0.8826489131126377)])})"
      ]
     },
     "execution_count": 415,
     "metadata": {},
     "output_type": "execute_result"
    }
   ],
   "source": [
    "ranker.best_score"
   ]
  },
  {
   "cell_type": "code",
   "execution_count": 416,
   "metadata": {},
   "outputs": [
    {
     "data": {
      "text/plain": [
       "<Axes: title={'center': 'Feature importance'}, xlabel='Feature importance', ylabel='Features'>"
      ]
     },
     "execution_count": 416,
     "metadata": {},
     "output_type": "execute_result"
    },
    {
     "data": {
      "image/png": "[encoded data removed]",
      "text/plain": [
       "<Figure size 1400x800 with 2 Axes>"
      ]
     },
     "metadata": {},
     "output_type": "display_data"
    }
   ],
   "source": [
    "fig, ax = plt.subplots(1, 2, figsize=(14, 8))\n",
    "lgb.plot_importance(ranker, importance_type='split', ax=ax[0], max_num_features=20)\n",
    "lgb.plot_importance(ranker, importance_type='gain', ax=ax[1], max_num_features=20)"
   ]
  },
  {
   "cell_type": "code",
   "execution_count": 418,
   "metadata": {},
   "outputs": [
    {
     "data": {
      "text/plain": [
       "('line',\n",
       " 'total_quotes_char',\n",
       " 'quote_len',\n",
       " 'series_Deep Space Nine',\n",
       " 'series_The Next Generation',\n",
       " 'episode_The Child',\n",
       " 'character_DATA')"
      ]
     },
     "execution_count": 418,
     "metadata": {},
     "output_type": "execute_result"
    }
   ],
   "source": [
    "# Top Features\n",
    "total_names[0], total_names[2], total_names[1], total_names[1201],total_names[1202],total_names[1102], total_names[66]"
   ]
  },
  {
   "cell_type": "markdown",
   "metadata": {},
   "source": [
    "### I built a ranker model!\n",
    "\n",
    "My simple, starting model has been built. The most important features were the line number in the episode ('line'), the total quotes a character has across both series, the length of the quote, the series, and whether the speaker is Riker.\n",
    "\n",
    "Now, I want to functionize this process and add even more features."
   ]
  },
  {
   "cell_type": "markdown",
   "metadata": {},
   "source": [
    "# More Learning2Rank\n",
    "\n",
    "More ideas: Lines per episode, lines per series, sentiment analysis."
   ]
  },
  {
   "cell_type": "code",
   "execution_count": 429,
   "metadata": {},
   "outputs": [],
   "source": [
    "def preprocess_data(complete:pd.DataFrame,ratings:pd.DataFrame)->dict:\n",
    "    '''Pre-processes the ranking data.\n",
    "\n",
    "    Returns training data & validation data\n",
    "    '''\n",
    "    output = {} # initialize output dict\n",
    "\n",
    "    # drop unneeded columns\n",
    "    ratings.drop(columns=['Unnamed: 0','quote'],inplace=True)\n",
    "    ratings.columns = ['index','query','ranking']\n",
    "\n",
    "    # replace rankings of 0 to max level (1 is highest ranking)\n",
    "    ratings.ranking = ratings.ranking.apply(lambda z: ratings.ranking.max()+1 if z < 0 else z)\n",
    "\n",
    "    # get the full data & join\n",
    "    full_data = ratings.merge(complete,on=['index'],how='left')\n",
    "\n",
    "    #----------------- FEATURE ENGINEERING -----------------\n",
    "    # length of quote\n",
    "    full_data['quote_len']=full_data['quote'].apply(lambda z: len(z.split()))\n",
    "    # character overall quotes in df\n",
    "    quote_count = complete.groupby('character').count()['quote']\n",
    "    full_data['total_quotes_char']=full_data['character'].apply(lambda x: quote_count[x])\n",
    "    # character overall quotes in episode\n",
    "    ep_quote = complete.groupby(['character','file']).count()['quote']\n",
    "    full_data['episode_quotes']=full_data.apply(lambda x: ep_quote[x['character'],x['file']],axis=1)"
   ]
  },
  {
   "cell_type": "code",
   "execution_count": 430,
   "metadata": {},
   "outputs": [],
   "source": [
    "ratings = pd.read_csv('skyeler_ranking_data.csv',index_col=0)\n",
    "\n",
    "preprocess_data(complete,ratings)"
   ]
  },
  {
   "cell_type": "code",
   "execution_count": null,
   "metadata": {},
   "outputs": [],
   "source": [
    "# I also want to get info from the previous quote etc."
   ]
  }
 ],
 "metadata": {
  "kernelspec": {
   "display_name": "base",
   "language": "python",
   "name": "python3"
  },
  "language_info": {
   "codemirror_mode": {
    "name": "ipython",
    "version": 3
   },
   "file_extension": ".py",
   "mimetype": "text/x-python",
   "name": "python",
   "nbconvert_exporter": "python",
   "pygments_lexer": "ipython3",
   "version": "3.12.7"
  }
 },
 "nbformat": 4,
 "nbformat_minor": 2
}
