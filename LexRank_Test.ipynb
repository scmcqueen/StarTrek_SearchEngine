{
 "cells": [
  {
   "cell_type": "code",
   "execution_count": 2,
   "metadata": {},
   "outputs": [
    {
     "name": "stdout",
     "output_type": "stream",
     "text": [
      "Intel MKL WARNING: Support of Intel(R) Streaming SIMD Extensions 4.2 (Intel(R) SSE4.2) enabled only processors has been deprecated. Intel oneAPI Math Kernel Library 2025.0 will require Intel(R) Advanced Vector Extensions (Intel(R) AVX) instructions.\n",
      "Intel MKL WARNING: Support of Intel(R) Streaming SIMD Extensions 4.2 (Intel(R) SSE4.2) enabled only processors has been deprecated. Intel oneAPI Math Kernel Library 2025.0 will require Intel(R) Advanced Vector Extensions (Intel(R) AVX) instructions.\n"
     ]
    }
   ],
   "source": [
    "import pandas as pd\n",
    "from lexrank import LexRank\n",
    "from lexrank.mappings.stopwords import STOPWORDS\n",
    "from path import Path\n",
    "import os"
   ]
  },
  {
   "cell_type": "markdown",
   "metadata": {},
   "source": [
    "# LexRank Test File\n",
    "\n",
    "Following along with the [LexRank Tutorial](https://github.com/crabcamp/lexrank)."
   ]
  },
  {
   "cell_type": "code",
   "execution_count": 3,
   "metadata": {},
   "outputs": [],
   "source": [
    "docs = []\n",
    "doc_dir_tng = Path('../StarTrekNextGenScriptData/scripts_tng')\n",
    "doc_dir_dsn = Path('../StarTrekNextGenScriptData/scripts_ds9')\n",
    "doc_dirs = [doc_dir_dsn,doc_dir_tng]\n",
    "\n",
    "# open sentences too\n",
    "complete = pd.read_csv('../StarTrekNextGenScriptData/complete_data.csv')"
   ]
  },
  {
   "cell_type": "code",
   "execution_count": 4,
   "metadata": {},
   "outputs": [],
   "source": [
    "# using the ENTIRE script, which may not have useful data (lots of empty lines)\n",
    "for documents_dir in doc_dirs:\n",
    "    for file_path in documents_dir.files('*.txt'):\n",
    "        with file_path.open(mode='rt', encoding='latin-1') as fp:\n",
    "            docs.append(fp.readlines())"
   ]
  },
  {
   "cell_type": "code",
   "execution_count": 5,
   "metadata": {},
   "outputs": [],
   "source": [
    "short_docs = docs[:50]"
   ]
  },
  {
   "cell_type": "code",
   "execution_count": 6,
   "metadata": {},
   "outputs": [],
   "source": [
    "lxr = LexRank(docs, stopwords=STOPWORDS['en'])\n"
   ]
  },
  {
   "cell_type": "code",
   "execution_count": 7,
   "metadata": {},
   "outputs": [],
   "source": [
    "sentences = list(complete[complete.file=='508.txt']['quote'])"
   ]
  },
  {
   "cell_type": "code",
   "execution_count": 8,
   "metadata": {},
   "outputs": [
    {
     "data": {
      "text/plain": [
       "['   So in the meantime, he\\'s going to    keep having...       \"visions.\"       I knew we were headed for trouble    the minute he allowed the Bajorans    to call him \"Emissary.\"',\n",
       " \"   Chief, I know you're worried. But    the Prophets are leading the    Emissary on this path for a    reason...\",\n",
       " '   The Prophets chose well when they    made you their Emissary.       So how does it all fit together?',\n",
       " \"   The Captain's not going to die.    He's the Emissary. The Prophets    will take care of him.\",\n",
       " '   May the Prophets reveal their    wisdom to you, Emissary.']"
      ]
     },
     "execution_count": 8,
     "metadata": {},
     "output_type": "execute_result"
    }
   ],
   "source": [
    "summary = lxr.get_summary(sentences, summary_size=5, threshold=.1)\n",
    "summary"
   ]
  }
 ],
 "metadata": {
  "kernelspec": {
   "display_name": "si649f23",
   "language": "python",
   "name": "python3"
  },
  "language_info": {
   "codemirror_mode": {
    "name": "ipython",
    "version": 3
   },
   "file_extension": ".py",
   "mimetype": "text/x-python",
   "name": "python",
   "nbconvert_exporter": "python",
   "pygments_lexer": "ipython3",
   "version": "3.11.4"
  }
 },
 "nbformat": 4,
 "nbformat_minor": 2
}
