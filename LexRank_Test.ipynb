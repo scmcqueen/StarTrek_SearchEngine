{
 "cells": [
  {
   "cell_type": "code",
   "execution_count": 32,
   "metadata": {},
   "outputs": [],
   "source": [
    "import pandas as pd\n",
    "from lexrank import LexRank\n",
    "from lexrank.mappings.stopwords import STOPWORDS\n",
    "from path import Path\n",
    "import os\n",
    "import re"
   ]
  },
  {
   "cell_type": "markdown",
   "metadata": {},
   "source": [
    "# LexRank Test File\n",
    "\n",
    "Following along with the [LexRank Tutorial](https://github.com/crabcamp/lexrank)."
   ]
  },
  {
   "cell_type": "code",
   "execution_count": 3,
   "metadata": {},
   "outputs": [],
   "source": [
    "docs = []\n",
    "doc_dir_tng = Path('../StarTrekNextGenScriptData/scripts_tng')\n",
    "doc_dir_dsn = Path('../StarTrekNextGenScriptData/scripts_ds9')\n",
    "doc_dirs = [doc_dir_dsn,doc_dir_tng]\n",
    "\n",
    "# open sentences too\n",
    "complete = pd.read_csv('../StarTrekNextGenScriptData/complete_data.csv')"
   ]
  },
  {
   "cell_type": "code",
   "execution_count": 4,
   "metadata": {},
   "outputs": [],
   "source": [
    "# using the ENTIRE script, which may not have useful data (lots of empty lines)\n",
    "for documents_dir in doc_dirs:\n",
    "    for file_path in documents_dir.files('*.txt'):\n",
    "        with file_path.open(mode='rt', encoding='latin-1') as fp:\n",
    "            docs.append(fp.readlines())"
   ]
  },
  {
   "cell_type": "code",
   "execution_count": null,
   "metadata": {},
   "outputs": [],
   "source": [
    "short_docs = docs[:50]"
   ]
  },
  {
   "cell_type": "code",
   "execution_count": null,
   "metadata": {},
   "outputs": [],
   "source": [
    "lxr = LexRank(docs, stopwords=STOPWORDS['en'])\n",
    "# takes about 1:48"
   ]
  },
  {
   "cell_type": "code",
   "execution_count": 12,
   "metadata": {},
   "outputs": [],
   "source": [
    "sentences = complete[complete.file=='504.txt']['quote']"
   ]
  },
  {
   "cell_type": "code",
   "execution_count": 30,
   "metadata": {},
   "outputs": [
    {
     "data": {
      "text/plain": [
       "['   You know your wife well, Miles.    But she knows you even better.',\n",
       " '   Miles?',\n",
       " '   Miles!',\n",
       " \"   You've done well, Miles.\",\n",
       " \"   We've gone over this, Miles. It's    not your concern.\"]"
      ]
     },
     "execution_count": 30,
     "metadata": {},
     "output_type": "execute_result"
    }
   ],
   "source": [
    "summary = lxr.get_summary(sentences, summary_size=5, threshold=.3)\n",
    "summary"
   ]
  },
  {
   "cell_type": "code",
   "execution_count": 31,
   "metadata": {},
   "outputs": [
    {
     "data": {
      "text/plain": [
       "'hey hjkhdl'"
      ]
     },
     "execution_count": 31,
     "metadata": {},
     "output_type": "execute_result"
    }
   ],
   "source": [
    "' '.join(['hey','hjkhdl'])"
   ]
  },
  {
   "cell_type": "code",
   "execution_count": 44,
   "metadata": {},
   "outputs": [],
   "source": [
    "def get_summary_per_episode(file_name:str,df:pd.DataFrame,lxr:LexRank,summary_len:int=5):\n",
    "    '''get the sentence summary per episode'''\n",
    "    sentences = list(df[df.file==file_name]['quote'])\n",
    "    summary = lxr.get_summary(sentences, summary_size=summary_len,threshold=.3)\n",
    "    output = '...\\n'.join(summary)\n",
    "    output= re.sub(r'\\s+', ' ', output.strip())\n",
    "    return output"
   ]
  },
  {
   "cell_type": "code",
   "execution_count": 46,
   "metadata": {},
   "outputs": [
    {
     "data": {
      "text/plain": [
       "'The Captain\\'s not going to die. He\\'s the Emissary. The Prophets will take care of him.... Are you speaking as a Starfleet Captain or as the Emissary of the Prophets?... So in the meantime, he\\'s going to keep having... \"visions.\" I knew we were headed for trouble the minute he allowed the Bajorans to call him \"Emissary.\"... What is it, Emissary? Have the Prophets revealed something to you?... May the Prophets reveal their wisdom to you, Emissary.'"
      ]
     },
     "execution_count": 46,
     "metadata": {},
     "output_type": "execute_result"
    }
   ],
   "source": [
    "get_summary_per_episode('508.txt',complete,lxr)"
   ]
  },
  {
   "cell_type": "code",
   "execution_count": 54,
   "metadata": {},
   "outputs": [
    {
     "data": {
      "text/plain": [
       "'Deep Space Nine'"
      ]
     },
     "execution_count": 54,
     "metadata": {},
     "output_type": "execute_result"
    }
   ],
   "source": [
    "complete[complete.file=='410.txt']['series'].unique()[0]"
   ]
  },
  {
   "cell_type": "code",
   "execution_count": 57,
   "metadata": {},
   "outputs": [],
   "source": [
    "episodes = complete['file'].unique()\n",
    "output = []\n",
    "for file in episodes:\n",
    "    ep = complete[complete.file==file]['episode'].unique()[0]\n",
    "    series = complete[complete.file==file]['series'].unique()[0]\n",
    "    summary = get_summary_per_episode(file,complete,lxr)\n",
    "    output.append([ep,series,file,summary])\n",
    "\n",
    "summary_df = pd.DataFrame(output, columns=['episode','series','file','summary'])\n",
    "# takes about a minute 30"
   ]
  },
  {
   "cell_type": "code",
   "execution_count": 69,
   "metadata": {},
   "outputs": [
    {
     "data": {
      "text/html": [
       "<div>\n",
       "<style scoped>\n",
       "    .dataframe tbody tr th:only-of-type {\n",
       "        vertical-align: middle;\n",
       "    }\n",
       "\n",
       "    .dataframe tbody tr th {\n",
       "        vertical-align: top;\n",
       "    }\n",
       "\n",
       "    .dataframe thead th {\n",
       "        text-align: right;\n",
       "    }\n",
       "</style>\n",
       "<table border=\"1\" class=\"dataframe\">\n",
       "  <thead>\n",
       "    <tr style=\"text-align: right;\">\n",
       "      <th></th>\n",
       "      <th>episode</th>\n",
       "      <th>series</th>\n",
       "      <th>file</th>\n",
       "      <th>summary</th>\n",
       "    </tr>\n",
       "  </thead>\n",
       "  <tbody>\n",
       "    <tr>\n",
       "      <th>55</th>\n",
       "      <td>Move Along Home</td>\n",
       "      <td>Deep Space Nine</td>\n",
       "      <td>410.txt</td>\n",
       "      <td>Allamaraine... Third shap... Ferengi lagunda.....</td>\n",
       "    </tr>\n",
       "    <tr>\n",
       "      <th>295</th>\n",
       "      <td>Time's Arrow, Part II</td>\n",
       "      <td>The Next Generation</td>\n",
       "      <td>227.txt</td>\n",
       "      <td>The triolic levels are as high as they were on...</td>\n",
       "    </tr>\n",
       "    <tr>\n",
       "      <th>45</th>\n",
       "      <td>Battle Lines</td>\n",
       "      <td>Deep Space Nine</td>\n",
       "      <td>413.txt</td>\n",
       "      <td>Only three of us will be coming back... Kai Op...</td>\n",
       "    </tr>\n",
       "    <tr>\n",
       "      <th>294</th>\n",
       "      <td>The Wounded</td>\n",
       "      <td>The Next Generation</td>\n",
       "      <td>186.txt</td>\n",
       "      <td>We've confirmed the report, Captain. It was th...</td>\n",
       "    </tr>\n",
       "    <tr>\n",
       "      <th>106</th>\n",
       "      <td>Wrongs Darker Than Death or Night</td>\n",
       "      <td>Deep Space Nine</td>\n",
       "      <td>541.txt</td>\n",
       "      <td>Computer. Locate Cardassian occupation files, ...</td>\n",
       "    </tr>\n",
       "    <tr>\n",
       "      <th>104</th>\n",
       "      <td>The Homecoming</td>\n",
       "      <td>Deep Space Nine</td>\n",
       "      <td>421.txt</td>\n",
       "      <td>It's good to know that Bajor is free.... Chief...</td>\n",
       "    </tr>\n",
       "  </tbody>\n",
       "</table>\n",
       "</div>"
      ],
      "text/plain": [
       "                               episode               series     file  \\\n",
       "55                     Move Along Home      Deep Space Nine  410.txt   \n",
       "295              Time's Arrow, Part II  The Next Generation  227.txt   \n",
       "45                        Battle Lines      Deep Space Nine  413.txt   \n",
       "294                        The Wounded  The Next Generation  186.txt   \n",
       "106  Wrongs Darker Than Death or Night      Deep Space Nine  541.txt   \n",
       "104                     The Homecoming      Deep Space Nine  421.txt   \n",
       "\n",
       "                                               summary  \n",
       "55   Allamaraine... Third shap... Ferengi lagunda.....  \n",
       "295  The triolic levels are as high as they were on...  \n",
       "45   Only three of us will be coming back... Kai Op...  \n",
       "294  We've confirmed the report, Captain. It was th...  \n",
       "106  Computer. Locate Cardassian occupation files, ...  \n",
       "104  It's good to know that Bajor is free.... Chief...  "
      ]
     },
     "execution_count": 69,
     "metadata": {},
     "output_type": "execute_result"
    }
   ],
   "source": [
    "summary_df.sample(6)"
   ]
  },
  {
   "cell_type": "code",
   "execution_count": 71,
   "metadata": {},
   "outputs": [
    {
     "data": {
      "text/plain": [
       "\"We've confirmed the report, Captain. It was the starship Phoenix... under the command of Benjamin Maxwell.... We are not going after any more Cardassian ships, Captain Maxwell... you are going to return to your bridge and set a course for Starbase Two-one-one... the Phoenix and the Enterprise will return to Federation space together. I will permit you the dignity of retaining your command during our voyage. My only alternative would be to put you in our brig, while we tow your ship back to starbase in disgrace.... Picard here.... Oh, one more thing, Macet. Maxwell was right. Those ships weren't carrying scientific equipment, were they?... Captain Picard is waiting in his Ready Room. This way.\""
      ]
     },
     "execution_count": 71,
     "metadata": {},
     "output_type": "execute_result"
    }
   ],
   "source": [
    "summary_df[summary_df.episode==\"The Wounded\"]['summary'].values[0]"
   ]
  },
  {
   "cell_type": "markdown",
   "metadata": {},
   "source": [
    "My thoughts here:\n",
    "\n",
    "We can make a way to search for episodes based on the episode summary!"
   ]
  }
 ],
 "metadata": {
  "kernelspec": {
   "display_name": "si649f23",
   "language": "python",
   "name": "python3"
  },
  "language_info": {
   "codemirror_mode": {
    "name": "ipython",
    "version": 3
   },
   "file_extension": ".py",
   "mimetype": "text/x-python",
   "name": "python",
   "nbconvert_exporter": "python",
   "pygments_lexer": "ipython3",
   "version": "3.11.4"
  }
 },
 "nbformat": 4,
 "nbformat_minor": 2
}
