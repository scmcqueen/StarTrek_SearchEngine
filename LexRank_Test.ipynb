{
 "cells": [
  {
   "cell_type": "code",
   "execution_count": 32,
   "metadata": {},
   "outputs": [],
   "source": [
    "import pandas as pd\n",
    "from lexrank import LexRank\n",
    "from lexrank.mappings.stopwords import STOPWORDS\n",
    "from path import Path\n",
    "import os"
   ]
  },
  {
   "cell_type": "markdown",
   "metadata": {},
   "source": [
    "# LexRank Test File\n",
    "\n",
    "Following along with the [LexRank Tutorial](https://github.com/crabcamp/lexrank)."
   ]
  },
  {
   "cell_type": "code",
   "execution_count": 33,
   "metadata": {},
   "outputs": [],
   "source": [
    "docs = []\n",
    "doc_dir_tng = Path('../StarTrekNextGenScriptData/scripts_tng')\n",
    "doc_dir_dsn = Path('../StarTrekNextGenScriptData/scripts_ds9')\n",
    "doc_dirs = [doc_dir_dsn,doc_dir_tng]\n",
    "\n",
    "# open sentences too\n",
    "complete = pd.read_csv('../StarTrekNextGenScriptData/complete_data.csv')"
   ]
  },
  {
   "cell_type": "code",
   "execution_count": 34,
   "metadata": {},
   "outputs": [],
   "source": [
    "# using the ENTIRE script, which may not have useful data (lots of empty lines)\n",
    "for documents_dir in doc_dirs:\n",
    "    for file_path in documents_dir.files('*.txt'):\n",
    "        with file_path.open(mode='rt', encoding='latin-1') as fp:\n",
    "            docs.append(fp.readlines())"
   ]
  },
  {
   "cell_type": "code",
   "execution_count": 16,
   "metadata": {},
   "outputs": [],
   "source": [
    "short_docs = docs[:50]"
   ]
  },
  {
   "cell_type": "code",
   "execution_count": 35,
   "metadata": {},
   "outputs": [],
   "source": [
    "lxr = LexRank(docs, stopwords=STOPWORDS['en'])\n"
   ]
  },
  {
   "cell_type": "code",
   "execution_count": 36,
   "metadata": {},
   "outputs": [],
   "source": [
    "sentences = list(complete[complete.file=='504.txt']['quote'])"
   ]
  },
  {
   "cell_type": "code",
   "execution_count": 37,
   "metadata": {},
   "outputs": [
    {
     "name": "stdout",
     "output_type": "stream",
     "text": [
      "[\"   In the bedroom, helping Molly put    on different shoes -- a little    fashion crisis. But as usual,    your wife has handled everything.    You're a lucky man, Miles.\", '   You know your wife well, Miles.    But she knows you even better.', '   The chief is here, Rom. Now what    do you have to say?', \"   Sorry, Odo.        Chief O'Brien to Keiko O'Brien.\", \"   What is it, Miles? What do you    want to ask me?        You always tighten your brow just    a tiny bit when you're about to    ask a question -- it's something    only a wife would notice.\"]\n"
     ]
    }
   ],
   "source": [
    "summary = lxr.get_summary(sentences, summary_size=5, threshold=.1)\n",
    "print(summary)"
   ]
  }
 ],
 "metadata": {
  "kernelspec": {
   "display_name": "si649f23",
   "language": "python",
   "name": "python3"
  },
  "language_info": {
   "codemirror_mode": {
    "name": "ipython",
    "version": 3
   },
   "file_extension": ".py",
   "mimetype": "text/x-python",
   "name": "python",
   "nbconvert_exporter": "python",
   "pygments_lexer": "ipython3",
   "version": "3.11.4"
  }
 },
 "nbformat": 4,
 "nbformat_minor": 2
}
