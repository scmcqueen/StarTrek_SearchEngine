{
 "cells": [
  {
   "cell_type": "code",
   "execution_count": 4,
   "metadata": {},
   "outputs": [
    {
     "name": "stdout",
     "output_type": "stream",
     "text": [
      "Intel MKL WARNING: Support of Intel(R) Streaming SIMD Extensions 4.2 (Intel(R) SSE4.2) enabled only processors has been deprecated. Intel oneAPI Math Kernel Library 2025.0 will require Intel(R) Advanced Vector Extensions (Intel(R) AVX) instructions.\n",
      "Intel MKL WARNING: Support of Intel(R) Streaming SIMD Extensions 4.2 (Intel(R) SSE4.2) enabled only processors has been deprecated. Intel oneAPI Math Kernel Library 2025.0 will require Intel(R) Advanced Vector Extensions (Intel(R) AVX) instructions.\n"
     ]
    }
   ],
   "source": [
    "import pandas as pd\n",
    "from path import Path\n",
    "import os\n",
    "from collections import defaultdict\n",
    "from math import log\n",
    "import string\n",
    "from collections import Counter"
   ]
  },
  {
   "cell_type": "markdown",
   "metadata": {},
   "source": [
    "# Following along with [80 Line Search Engine](https://www.alexmolas.com/2024/02/05/a-search-engine-in-80-lines.html)"
   ]
  },
  {
   "cell_type": "code",
   "execution_count": 5,
   "metadata": {},
   "outputs": [],
   "source": [
    "# open complete csv\n",
    "complete = pd.read_csv('../StarTrekNextGenScriptData/complete_data.csv')\n",
    "complete.columns = ['index', 'character', 'quote', 'scene', 'location', 'view',\n",
    "       'episode', 'date', 'series', 'file']"
   ]
  },
  {
   "cell_type": "markdown",
   "metadata": {},
   "source": [
    "### Create Search Engine Class"
   ]
  },
  {
   "cell_type": "code",
   "execution_count": 41,
   "metadata": {},
   "outputs": [],
   "source": [
    "# functions to use  --- may wanna update this to lemmatize\n",
    "def normalize_string(input_string: str) -> str:\n",
    "    translation_table = str.maketrans(string.punctuation, ' ' * len(string.punctuation))\n",
    "    string_without_punc = input_string.translate(translation_table)\n",
    "    string_without_double_spaces = ' '.join(string_without_punc.split())\n",
    "    return string_without_double_spaces.lower()\n",
    "\n",
    "def update_url_scores(old: dict[str, float], new: dict[str, float]):\n",
    "    for url, score in new.items():\n",
    "        if url in old:\n",
    "            old[url] += score\n",
    "        else:\n",
    "            old[url] = score\n",
    "    return old"
   ]
  },
  {
   "cell_type": "code",
   "execution_count": 81,
   "metadata": {},
   "outputs": [],
   "source": [
    "class search_engine:\n",
    "    '''Search engine class'''\n",
    "    def __init__(self, index:dict[str, dict[str, int]]=None, docs: dict[str, str]=None,original_docs: dict[str, str]=None,k1:float=1.5,b:float=0.75,name:str='Default Search Engine'):\n",
    "        '''Instantiate the search engine class.\n",
    "        Input:\n",
    "            index: dict[str, dict[int,int]], the inverted index\n",
    "            docs: dict[int, str], key is the id of the quote and value is the quote text\n",
    "            k1: float, k1 constant to use for bm25\n",
    "            b: float, b constant to use for bm25\n",
    "        Output:\n",
    "            None, class instantiation\n",
    "        '''\n",
    "        if index is None:\n",
    "            self.index = defaultdict(lambda: defaultdict(int))\n",
    "        else:\n",
    "            self.index = index\n",
    "        if docs is None:\n",
    "            self.docs = {}\n",
    "        else:\n",
    "            self.docs = docs\n",
    "        if original_docs is None:\n",
    "            self.original_docs = {}\n",
    "        else:\n",
    "            self.original_docs = original_docs\n",
    "        self.k1 =k1\n",
    "        self.b = b\n",
    "        self.name = name\n",
    "\n",
    "    def __str__(self)->str:\n",
    "        '''Print readable name of the search engine\n",
    "        Output:\n",
    "            str: name of the instance\n",
    "        '''\n",
    "        return(self.name)\n",
    "\n",
    "    def bulk_load(self,data:dict)->None:\n",
    "        '''Bulk loads new documents to add to the search engine.\n",
    "\n",
    "        Input:\n",
    "            data: dict[int,str], where int is the id and str is the content\n",
    "        '''\n",
    "        original_len = len(self.docs.keys())\n",
    "        for ind in data.keys():\n",
    "            # get the content & the id\n",
    "            content = data[ind]\n",
    "            id = ind\n",
    "            # add original docs\n",
    "            self.original_docs[id]=content\n",
    "            # add to doc list\n",
    "            self.docs[id]=normalize_string(content)\n",
    "            # normalize content\n",
    "            words = normalize_string(content).split(\" \")\n",
    "            # update the index\n",
    "            for word in words:\n",
    "                self.index[word][id] += 1\n",
    "        new_len =original_len = len(self.docs.keys())\n",
    "        print(f'We have added {new_len-original_len} documents. The engine now has {new_len} documents.')\n",
    "\n",
    "    def load(self,document:str)->None:\n",
    "        '''Load a single document into the search engine. Ideally this should not be used.\n",
    "\n",
    "        Input:\n",
    "            document: str, the new text document to add to the search engine.\n",
    "        '''\n",
    "        new_id = len(self.docs.keys())\n",
    "        self.docs[new_id]=normalize_string(document)\n",
    "        words = normalize_string(document).split(\" \")\n",
    "        for word in words:\n",
    "            self.index[word][new_id]\n",
    "\n",
    "    def num_docs(self)->int:\n",
    "        '''Returns the number of docs\n",
    "\n",
    "        Output:\n",
    "            int: length of docs\n",
    "        '''\n",
    "        return len(self.docs.keys())\n",
    "\n",
    "    def find_ids(self,keyword:string)->dict:\n",
    "        keyword =normalize_string(keyword)\n",
    "        return self.index[keyword]\n",
    "\n",
    "    def bw_idf(self,keyword:str)->float:\n",
    "    # for each term, get the idf\n",
    "        num_docs = self.num_docs()\n",
    "        n_kw = len(self.find_ids(keyword))\n",
    "        return log((num_docs-n_kw+0.5)/(n_kw+0.5)+1)\n",
    "    \n",
    "    def bm25(self, keyword:str)-> dict[str, float]:\n",
    "        result = {}\n",
    "        idf = self.bw_idf(keyword)\n",
    "        avg_ql = sum(len(d) for d in self.docs.values()) / len(self.docs)\n",
    "        for id, freq in self.find_ids(keyword).items():\n",
    "            num = freq * (self.k1+1)\n",
    "            denom = freq+self.k1*(1 - self.b + self.b * len(self.docs[id]) / avg_ql)\n",
    "            result[id]=idf * num /denom\n",
    "        return result\n",
    "    \n",
    "    def bw_search(self,query:str,limit:int=None)->dict[str,float]:\n",
    "        kws = normalize_string(query).split(\" \")\n",
    "        scores ={} # dict[str, float] \n",
    "        for k in kws:\n",
    "            kw_url_score = self.bm25(k)\n",
    "            scores = update_url_scores(scores,kw_url_score)\n",
    "        sort_scores = sorted(scores.items(), key=lambda kv: (kv[1], kv[0]),reverse=True)\n",
    "        if limit is not None:\n",
    "            sort_scores = sort_scores[:limit]\n",
    "        return sort_scores\n",
    "    \n",
    "    def pretty_print(self,ids:list)->list:\n",
    "        '''Prints the quotes instead of a list of ids'''\n",
    "        # get context\n",
    "        output = []\n",
    "        for x in ids:\n",
    "            context = [self.original_docs[x-1],self.original_docs[x],self.original_docs[x+1]]\n",
    "            output.append(context)\n",
    "        return(output)"
   ]
  },
  {
   "cell_type": "code",
   "execution_count": 82,
   "metadata": {},
   "outputs": [
    {
     "name": "stdout",
     "output_type": "stream",
     "text": [
      "We have added 0 documents. The engine now has 144211 documents.\n"
     ]
    },
    {
     "data": {
      "text/plain": [
       "144211"
      ]
     },
     "execution_count": 82,
     "metadata": {},
     "output_type": "execute_result"
    }
   ],
   "source": [
    "test_engine = search_engine()\n",
    "test_engine.bulk_load(complete[['quote']].to_dict()['quote'])\n",
    "test_engine.num_docs()"
   ]
  },
  {
   "cell_type": "code",
   "execution_count": 89,
   "metadata": {},
   "outputs": [
    {
     "data": {
      "text/plain": [
       "[['   He stole a candle.', '   One candle?', '   How long was he in there?'],\n",
       " ['   What did he do to deserve this?',\n",
       "  '   He stole a candle.',\n",
       "  '   One candle?'],\n",
       " ['   Many things improve with age...   maybe your trombone playing will   be one of them.',\n",
       "  \"   It's candle time, birthday boy.\",\n",
       "  '   What did you wish for, Will?'],\n",
       " ['   Computer, secure door.',\n",
       "  '       I lit the candle... where are you?',\n",
       "  \"   It's all right... we're   together... we're going to be   one... I'll become part of you,   Beverly. Would you like that?\"],\n",
       " [\"   There's a lot of things she didn't   tell you.\",\n",
       "  '   Now -- let me get rid of that   candle.',\n",
       "  '   What do you mean?'],\n",
       " ['   The power transfer beam... I can   travel along it.',\n",
       "  '   After I light the candle, then   what?',\n",
       "  \"   Then we'll be together... always.\"],\n",
       " [\"   Yes... if I'm away from it for too   long, I begin to weaken. That's   why the women in your family have   always kept the candle lit.\",\n",
       "  \"   The candle is on my ship... I'll   go get it...\",\n",
       "  \"       No... there's no time... I'll go   with you...\"],\n",
       " [\"   Are you suggesting my grandmother   didn't die of natural causes?\",\n",
       "  \"       Believe what ya want... just   don't light that candle.\",\n",
       "  '   Why not?'],\n",
       " [\"   You've been using me... Nana... my   whole family... for centuries...\",\n",
       "  '   And I loved all of them... and   they loved me.       Give me the candle, Beverly.',\n",
       "  '   No...'],\n",
       " ['   What do you mean?',\n",
       "  '   That candle has brought nothing   but misery and bad luck to your   grandmother.',\n",
       "  \"   Now listen, Mister Quint -- I   don't know what your relationship   was with my grandmother. But this   is my house now and these are my   things --\"],\n",
       " ['   Your fighting skills will be   tested... and your knowledge of   the teachings of Kahless. It is   very challenging, but I will help   you prepare.',\n",
       "  \"       This is a kor'tova candle... it   represents the fire that burns in   a warrior's heart.\",\n",
       "  '       When you light yours, you will be   declaring your intention to become   a warrior.'],\n",
       " ['   How?',\n",
       "  '   It appears a small hunter probe    was hidden in a ceremonial candle    and fired a disruptor blast.',\n",
       "  '   Do they have any suspects?'],\n",
       " ['   Help you?',\n",
       "  \"   It's not easy for me to take   corporeal form... I can't do it   for long. I want you to light the   candle...\",\n",
       "  '   Quint said it was your home... is   that true?'],\n",
       " ['   Quint said it was your home... is   that true?',\n",
       "  \"   Yes... if I'm away from it for too   long, I begin to weaken. That's   why the women in your family have   always kept the candle lit.\",\n",
       "  \"   The candle is on my ship... I'll   go get it...\"],\n",
       " ['   Beverly...',\n",
       "  '       I scanned the candle, too... the   flame is plasma-based... you were   using it as a temporary receptacle   for yourself... until you could   get to me... so you could \"merge\"   with me...',\n",
       "  \"   You've been using me... Nana... my   whole family... for centuries...\"],\n",
       " ['       This is a family heirloom and I   intend to keep it. I would like   you to leave my house. Now.',\n",
       "  \"       Howard women... always the same   stubborn fools...       I wash my hands of it now. You   stay in this house and keep that   damned candle and I won't be   responsible for what happens.\",\n",
       "  \"   The colony's  systems are   functioning normally... as are the    systems.\"],\n",
       " [\"   Now listen, Mister Quint -- I   don't know what your relationship   was with my grandmother. But this   is my house now and these are my   things --\",\n",
       "  \"   I'm telling ya -- that candle has   been a curse on your family for   generations. And if you had a   lick of sense, you'd listen to me   right now and do away with it.   Now give it to me.\",\n",
       "  '       This is a family heirloom and I   intend to keep it. I would like   you to leave my house. Now.'],\n",
       " ['   I think your imagination is --',\n",
       "  \"       Think what ya want, see what ya   want. But just do what I say.   Don't light the candle. Don't go   in that house. Or before you know   it... I'll be burying another   Howard in this cemetery.\",\n",
       "  '   Captain -- I am detecting   atmospheric turbulence over the   colony... and large pockets of   electrical activity.'],\n",
       " ['   Thank you, Alixus.',\n",
       "  \"   Stephan will never steal a candle    again.  And neither will anyone else    who saw him here today.       In time, you'll understand that this    is a simple, effective way to maintain    law and order in our community.\",\n",
       "  '       Sir, I get the distinct impression    that she expects us to be here for    a while...'],\n",
       " [\"       That's beautiful... what is it?\",\n",
       "  '   A family heirloom... it\\'s been in   the Howard clan for at least   twenty generations. It\\'s supposed   to symbolize the \"enduring spirit   of the Howards, wherever they may   go -- a shining light to guide   their fortune.\"       Nana always kept it lit. I can   remember sitting in here listening   to ghost stories with only this   candle burning...',\n",
       "  '   You should take it with you...']]"
      ]
     },
     "execution_count": 89,
     "metadata": {},
     "output_type": "execute_result"
    }
   ],
   "source": [
    "q_results = test_engine.bw_search('candle',20)\n",
    "# sorted_items = sorted(q_results.items(), key=lambda kv: (kv[1], kv[0]),reverse=True)\n",
    "# sorted_items\n",
    "test_engine.pretty_print([x[0] for x in q_results])"
   ]
  },
  {
   "cell_type": "markdown",
   "metadata": {},
   "source": [
    "## Next steps:\n",
    "\n",
    "Now that I feel comfortable with the base idea of how I can implement a search engine, I need to fine tune it. \n",
    "\n",
    "1) pre-process text data much better \n",
    "* I should BOW & vectorize the quotes. Then I can also use the other data points (line in episode, speaker, who is spoken to etc). \n",
    "* This should allow for similarity vector space recommendation models & some other fancy things: e.g. checking if search term is name of character or episode, etc.\n",
    "2) better display \n",
    "* display non-processed text. Get rid of double spaces. Include the speaker, episode, etc. \n",
    "* "
   ]
  }
 ],
 "metadata": {
  "kernelspec": {
   "display_name": "si649f23",
   "language": "python",
   "name": "python3"
  },
  "language_info": {
   "codemirror_mode": {
    "name": "ipython",
    "version": 3
   },
   "file_extension": ".py",
   "mimetype": "text/x-python",
   "name": "python",
   "nbconvert_exporter": "python",
   "pygments_lexer": "ipython3",
   "version": "3.11.4"
  }
 },
 "nbformat": 4,
 "nbformat_minor": 2
}
