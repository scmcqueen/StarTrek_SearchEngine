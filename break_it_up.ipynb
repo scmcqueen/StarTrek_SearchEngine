{
 "cells": [
  {
   "cell_type": "code",
   "execution_count": null,
   "metadata": {},
   "outputs": [
    {
     "data": {
      "text/plain": [
       "lightgbm.basic.Booster"
      ]
     },
     "metadata": {},
     "output_type": "display_data"
    }
   ],
   "source": [
    "type(ranker)"
   ]
  },
  {
   "cell_type": "code",
   "execution_count": 1,
   "metadata": {},
   "outputs": [],
   "source": [
    "import os\n",
    "import pandas as pd\n",
    "\n",
    "def split_csv(file_path, output_dir, rows_per_chunk=10000):\n",
    "    \"\"\"\n",
    "    Splits a CSV file into smaller chunks.\n",
    "\n",
    "    Args:\n",
    "        file_path (str): Path to the original CSV file.\n",
    "        output_dir (str): Directory to store the smaller chunk files.\n",
    "        rows_per_chunk (int): Number of rows per chunk.\n",
    "    \"\"\"\n",
    "    os.makedirs(output_dir, exist_ok=True)\n",
    "    df_iter = pd.read_csv(file_path, chunksize=rows_per_chunk)\n",
    "    \n",
    "    for i, chunk in enumerate(df_iter):\n",
    "        chunk_file = os.path.join(output_dir, f\"chunk_{i:03}.csv\")\n",
    "        chunk.to_csv(chunk_file, index=False)\n",
    "        print(f\"Saved: {chunk_file}\")\n",
    "\n",
    "def combine_csv_chunks(input_dir, output_file):\n",
    "    \"\"\"\n",
    "    Recombines CSV chunks into a single CSV file.\n",
    "\n",
    "    Args:\n",
    "        input_dir (str): Directory containing CSV chunk files.\n",
    "        output_file (str): Path to save the recombined CSV file.\n",
    "    \"\"\"\n",
    "    chunk_files = sorted(\n",
    "        [f for f in os.listdir(input_dir) if f.startswith(\"chunk_\") and f.endswith(\".csv\")]\n",
    "    )\n",
    "\n",
    "    df_list = []\n",
    "    for chunk_file in chunk_files:\n",
    "        chunk_path = os.path.join(input_dir, chunk_file)\n",
    "        df = pd.read_csv(chunk_path)\n",
    "        df_list.append(df)\n",
    "        print(f\"Loaded: {chunk_file}\")\n",
    "\n",
    "    full_df = pd.concat(df_list, ignore_index=True)\n",
    "    full_df.to_csv(output_file, index=False)\n",
    "    print(f\"Recombined CSV saved to: {output_file}\")"
   ]
  },
  {
   "cell_type": "code",
   "execution_count": 2,
   "metadata": {},
   "outputs": [
    {
     "name": "stdout",
     "output_type": "stream",
     "text": [
      "Saved: sentiment_brokendown/chunk_000.csv\n",
      "Saved: sentiment_brokendown/chunk_001.csv\n",
      "Saved: sentiment_brokendown/chunk_002.csv\n",
      "Saved: sentiment_brokendown/chunk_003.csv\n",
      "Saved: sentiment_brokendown/chunk_004.csv\n",
      "Saved: sentiment_brokendown/chunk_005.csv\n",
      "Saved: sentiment_brokendown/chunk_006.csv\n",
      "Saved: sentiment_brokendown/chunk_007.csv\n",
      "Saved: sentiment_brokendown/chunk_008.csv\n",
      "Saved: sentiment_brokendown/chunk_009.csv\n",
      "Saved: sentiment_brokendown/chunk_010.csv\n",
      "Saved: sentiment_brokendown/chunk_011.csv\n",
      "Saved: sentiment_brokendown/chunk_012.csv\n",
      "Saved: sentiment_brokendown/chunk_013.csv\n",
      "Saved: sentiment_brokendown/chunk_014.csv\n"
     ]
    }
   ],
   "source": [
    "split_csv('complete_sentiment.csv','sentiment_brokendown')"
   ]
  }
 ],
 "metadata": {
  "kernelspec": {
   "display_name": "base",
   "language": "python",
   "name": "python3"
  },
  "language_info": {
   "codemirror_mode": {
    "name": "ipython",
    "version": 3
   },
   "file_extension": ".py",
   "mimetype": "text/x-python",
   "name": "python",
   "nbconvert_exporter": "python",
   "pygments_lexer": "ipython3",
   "version": "3.12.7"
  }
 },
 "nbformat": 4,
 "nbformat_minor": 2
}
