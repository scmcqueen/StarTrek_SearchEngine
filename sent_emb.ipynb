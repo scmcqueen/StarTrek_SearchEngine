{
 "cells": [
  {
   "cell_type": "markdown",
   "metadata": {},
   "source": [
    "# Sentence Embeddings\n",
    "\n",
    "* get all sentence embeddings\n",
    "* train network/ fine tune roberta model\n",
    "* create a cheeky network!\n",
    "* PageRank?"
   ]
  },
  {
   "cell_type": "code",
   "execution_count": 9,
   "metadata": {},
   "outputs": [],
   "source": [
    "from sentence_transformers import SentenceTransformer\n",
    "import pandas as pd\n",
    "import re"
   ]
  },
  {
   "cell_type": "code",
   "execution_count": 32,
   "metadata": {},
   "outputs": [
    {
     "data": {
      "text/plain": [
       "[\"   You know, Morn -- there's nothing    quite as invigorating as breakfast    in a bar. Where else can you get    raw slug livers first thing in the    morning?\",\n",
       " \"   What's this?\",\n",
       " '   What do you mean, \"what\\'s this?\"    It\\'s puree of beetle.',\n",
       " \"   I didn't order it.\",\n",
       " '   Of course you \"didn\\'t order it\" --    you don\\'t need to order it. You    have it after work every morning.']"
      ]
     },
     "execution_count": 32,
     "metadata": {},
     "output_type": "execute_result"
    }
   ],
   "source": [
    "# open dataframe\n",
    "complete = pd.read_csv('../StarTrekNextGenScriptData/complete_data.csv')\n",
    "\n",
    "# get sentences\n",
    "sentences = list(complete['quote'])\n",
    "\n",
    "# preview\n",
    "sentences[:5]"
   ]
  },
  {
   "cell_type": "code",
   "execution_count": 18,
   "metadata": {},
   "outputs": [],
   "source": [
    "# load my girl roberta\n",
    "model = SentenceTransformer('sentence-transformers/all-distilroberta-v1')"
   ]
  },
  {
   "cell_type": "code",
   "execution_count": null,
   "metadata": {},
   "outputs": [],
   "source": [
    "# start by completing this problem on a mini model\n",
    "baby = sentences[:100]\n",
    "embeddings = model.encode(baby) # TBD later: embeddings = model.encode(sentences)"
   ]
  },
  {
   "cell_type": "code",
   "execution_count": null,
   "metadata": {},
   "outputs": [
    {
     "data": {
      "text/html": [
       "<div>\n",
       "<style scoped>\n",
       "    .dataframe tbody tr th:only-of-type {\n",
       "        vertical-align: middle;\n",
       "    }\n",
       "\n",
       "    .dataframe tbody tr th {\n",
       "        vertical-align: top;\n",
       "    }\n",
       "\n",
       "    .dataframe thead th {\n",
       "        text-align: right;\n",
       "    }\n",
       "</style>\n",
       "<table border=\"1\" class=\"dataframe\">\n",
       "  <thead>\n",
       "    <tr style=\"text-align: right;\">\n",
       "      <th></th>\n",
       "      <th>index</th>\n",
       "      <th>quote</th>\n",
       "      <th>embeddings</th>\n",
       "    </tr>\n",
       "  </thead>\n",
       "  <tbody>\n",
       "    <tr>\n",
       "      <th>0</th>\n",
       "      <td>0</td>\n",
       "      <td>You know, Morn -- there's nothing    quite ...</td>\n",
       "      <td>[-0.014900208, -0.071976624, -0.009477574, -0....</td>\n",
       "    </tr>\n",
       "    <tr>\n",
       "      <th>1</th>\n",
       "      <td>1</td>\n",
       "      <td>What's this?</td>\n",
       "      <td>[-0.0071644243, -0.013978246, -0.0136519885, 0...</td>\n",
       "    </tr>\n",
       "    <tr>\n",
       "      <th>2</th>\n",
       "      <td>2</td>\n",
       "      <td>What do you mean, \"what's this?\"    It's pu...</td>\n",
       "      <td>[-0.049197827, -0.035305783, 0.00814294, 0.088...</td>\n",
       "    </tr>\n",
       "    <tr>\n",
       "      <th>3</th>\n",
       "      <td>3</td>\n",
       "      <td>I didn't order it.</td>\n",
       "      <td>[-0.043590456, -0.021896439, -0.01940514, 0.02...</td>\n",
       "    </tr>\n",
       "    <tr>\n",
       "      <th>4</th>\n",
       "      <td>4</td>\n",
       "      <td>Of course you \"didn't order it\" --    you d...</td>\n",
       "      <td>[-0.053526014, 0.0012190586, 0.0011013808, 0.0...</td>\n",
       "    </tr>\n",
       "    <tr>\n",
       "      <th>...</th>\n",
       "      <td>...</td>\n",
       "      <td>...</td>\n",
       "      <td>...</td>\n",
       "    </tr>\n",
       "    <tr>\n",
       "      <th>95</th>\n",
       "      <td>95</td>\n",
       "      <td>It's the least I can do after...</td>\n",
       "      <td>[-0.04241103, -0.0022942515, -0.011721256, 0.0...</td>\n",
       "    </tr>\n",
       "    <tr>\n",
       "      <th>96</th>\n",
       "      <td>96</td>\n",
       "      <td>It's all right, Julian. I forgive    you.  ...</td>\n",
       "      <td>[-0.039677955, -0.060667247, 0.009102529, 0.00...</td>\n",
       "    </tr>\n",
       "    <tr>\n",
       "      <th>97</th>\n",
       "      <td>97</td>\n",
       "      <td>I'll be here.        I guess it's not a sur...</td>\n",
       "      <td>[0.056505203, -0.06760052, -0.04946052, -0.021...</td>\n",
       "    </tr>\n",
       "    <tr>\n",
       "      <th>98</th>\n",
       "      <td>98</td>\n",
       "      <td>I can't believe I did that.        I a...</td>\n",
       "      <td>[-0.024098104, -0.06581943, -0.029327968, 0.02...</td>\n",
       "    </tr>\n",
       "    <tr>\n",
       "      <th>99</th>\n",
       "      <td>99</td>\n",
       "      <td>It's okay.        I don't like surprises.</td>\n",
       "      <td>[-0.0027998108, -0.056653786, -0.03934149, -0....</td>\n",
       "    </tr>\n",
       "  </tbody>\n",
       "</table>\n",
       "<p>100 rows × 3 columns</p>\n",
       "</div>"
      ],
      "text/plain": [
       "    index                                              quote  \\\n",
       "0       0     You know, Morn -- there's nothing    quite ...   \n",
       "1       1                                       What's this?   \n",
       "2       2     What do you mean, \"what's this?\"    It's pu...   \n",
       "3       3                                 I didn't order it.   \n",
       "4       4     Of course you \"didn't order it\" --    you d...   \n",
       "..    ...                                                ...   \n",
       "95     95                   It's the least I can do after...   \n",
       "96     96     It's all right, Julian. I forgive    you.  ...   \n",
       "97     97     I'll be here.        I guess it's not a sur...   \n",
       "98     98          I can't believe I did that.        I a...   \n",
       "99     99          It's okay.        I don't like surprises.   \n",
       "\n",
       "                                           embeddings  \n",
       "0   [-0.014900208, -0.071976624, -0.009477574, -0....  \n",
       "1   [-0.0071644243, -0.013978246, -0.0136519885, 0...  \n",
       "2   [-0.049197827, -0.035305783, 0.00814294, 0.088...  \n",
       "3   [-0.043590456, -0.021896439, -0.01940514, 0.02...  \n",
       "4   [-0.053526014, 0.0012190586, 0.0011013808, 0.0...  \n",
       "..                                                ...  \n",
       "95  [-0.04241103, -0.0022942515, -0.011721256, 0.0...  \n",
       "96  [-0.039677955, -0.060667247, 0.009102529, 0.00...  \n",
       "97  [0.056505203, -0.06760052, -0.04946052, -0.021...  \n",
       "98  [-0.024098104, -0.06581943, -0.029327968, 0.02...  \n",
       "99  [-0.0027998108, -0.056653786, -0.03934149, -0....  \n",
       "\n",
       "[100 rows x 3 columns]"
      ]
     },
     "execution_count": 40,
     "metadata": {},
     "output_type": "execute_result"
    }
   ],
   "source": [
    "# create df with index, quote, embeddings\n",
    "embeddings_df = pd.DataFrame({'quote':baby,'embeddings':list(embeddings)}).reset_index()\n",
    "embeddings_df"
   ]
  },
  {
   "cell_type": "code",
   "execution_count": null,
   "metadata": {},
   "outputs": [],
   "source": [
    "# calculate pairwise cosine similarity! as recommended in sentence transformers"
   ]
  }
 ],
 "metadata": {
  "kernelspec": {
   "display_name": "si649f23",
   "language": "python",
   "name": "python3"
  },
  "language_info": {
   "codemirror_mode": {
    "name": "ipython",
    "version": 3
   },
   "file_extension": ".py",
   "mimetype": "text/x-python",
   "name": "python",
   "nbconvert_exporter": "python",
   "pygments_lexer": "ipython3",
   "version": "3.11.4"
  }
 },
 "nbformat": 4,
 "nbformat_minor": 2
}
