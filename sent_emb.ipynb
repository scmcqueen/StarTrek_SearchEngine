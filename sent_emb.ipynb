{
    "cells": [
        {
            "cell_type": "markdown",
            "metadata": {},
            "source": [
                "# Sentence Embeddings\n",
                "\n",
                "* get all sentence embeddings\n",
                "* train network/ fine tune roberta model\n",
                "* create a cheeky network!\n",
                "* PageRank?"
            ]
        },
        {
            "cell_type": "code",
            "execution_count": 2,
            "metadata": {},
            "outputs": [],
            "source": [
                "from sentence_transformers import SentenceTransformer\n",
                "import pandas as pd\n",
                "import re\n",
                "import numpy as np"
            ]
        },
        {
            "cell_type": "code",
            "execution_count": 3,
            "metadata": {},
            "outputs": [
                {
                    "data": {
                        "text/plain": [
                            "[\"   You know, Morn -- there's nothing    quite as invigorating as breakfast    in a bar. Where else can you get    raw slug livers first thing in the    morning?\",\n",
                            " \"   What's this?\",\n",
                            " '   What do you mean, \"what\\'s this?\"    It\\'s puree of beetle.',\n",
                            " \"   I didn't order it.\",\n",
                            " '   Of course you \"didn\\'t order it\" --    you don\\'t need to order it. You    have it after work every morning.']"
                        ]
                    },
                    "execution_count": 3,
                    "metadata": {},
                    "output_type": "execute_result"
                }
            ],
            "source": [
                "# open dataframe\n",
                "complete = pd.read_csv('https://scmcqueen.github.io/StarTrekScriptData/complete_data.csv')\n",
                "\n",
                "# get sentences\n",
                "sentences = list(complete['quote'])\n",
                "\n",
                "# preview\n",
                "sentences[:5]"
            ]
        },
        {
            "cell_type": "code",
            "execution_count": 4,
            "metadata": {},
            "outputs": [],
            "source": [
                "# load my girl roberta\n",
                "model = SentenceTransformer('sentence-transformers/all-distilroberta-v1')"
            ]
        },
        {
            "cell_type": "code",
            "execution_count": 5,
            "metadata": {},
            "outputs": [],
            "source": [
                "embeddings = model.encode(sentences)\n",
                "# takes 4 minutes to run"
            ]
        },
        {
            "cell_type": "code",
            "execution_count": null,
            "metadata": {},
            "outputs": [],
            "source": [
                "embedding_df = pd.DataFrame(embeddings)\n",
                "embedding_df.to_csv('st_embeddings.csv')\n",
                "embedding_df.head()"
            ]
        },
        {
            "cell_type": "markdown",
            "metadata": {},
            "source": [
                "### Now that I have embeddings, I need to see if this will work with lambda rank"
            ]
        },
        {
            "cell_type": "code",
            "execution_count": 15,
            "metadata": {},
            "outputs": [
                {
                    "data": {
                        "text/plain": [
                            "DataTransformerRegistry.enable('default')"
                        ]
                    },
                    "execution_count": 15,
                    "metadata": {},
                    "output_type": "execute_result"
                }
            ],
            "source": [
                "import lightgbm as lgb\n",
                "import numpy as np\n",
                "import pandas as pd\n",
                "from sklearn.model_selection import train_test_split\n",
                "from sklearn.metrics import accuracy_score, precision_score, recall_score, f1_score, classification_report\n",
                "from sklearn.datasets import load_breast_cancer\n",
                "import matplotlib.pyplot as plt\n",
                "import seaborn as sns\n",
                "from sklearn.preprocessing import OneHotEncoder, StandardScaler\n",
                "from sklearn.compose import ColumnTransformer\n",
                "import nltk\n",
                "from nltk.sentiment.vader import SentimentIntensityAnalyzer\n",
                "import spacy\n",
                "from spacy.tokens import Doc\n",
                "import csv\n",
                "import altair as alt\n",
                "\n",
                "alt.data_transformers.disable_max_rows()"
            ]
        },
        {
            "cell_type": "code",
            "execution_count": null,
            "metadata": {},
            "outputs": [],
            "source": [
                "# add something to save complete with embeddings"
            ]
        },
        {
            "cell_type": "code",
            "execution_count": 22,
            "metadata": {},
            "outputs": [
                {
                    "data": {
                        "text/html": [
                            "<div>\n",
                            "<style scoped>\n",
                            "    .dataframe tbody tr th:only-of-type {\n",
                            "        vertical-align: middle;\n",
                            "    }\n",
                            "\n",
                            "    .dataframe tbody tr th {\n",
                            "        vertical-align: top;\n",
                            "    }\n",
                            "\n",
                            "    .dataframe thead th {\n",
                            "        text-align: right;\n",
                            "    }\n",
                            "</style>\n",
                            "<table border=\"1\" class=\"dataframe\">\n",
                            "  <thead>\n",
                            "    <tr style=\"text-align: right;\">\n",
                            "      <th></th>\n",
                            "      <th>index</th>\n",
                            "      <th>query</th>\n",
                            "      <th>ranking</th>\n",
                            "    </tr>\n",
                            "  </thead>\n",
                            "  <tbody>\n",
                            "    <tr>\n",
                            "      <th>0</th>\n",
                            "      <td>113689</td>\n",
                            "      <td>lwaxana</td>\n",
                            "      <td>21</td>\n",
                            "    </tr>\n",
                            "    <tr>\n",
                            "      <th>1</th>\n",
                            "      <td>113558</td>\n",
                            "      <td>lwaxana</td>\n",
                            "      <td>21</td>\n",
                            "    </tr>\n",
                            "    <tr>\n",
                            "      <th>2</th>\n",
                            "      <td>113532</td>\n",
                            "      <td>lwaxana</td>\n",
                            "      <td>21</td>\n",
                            "    </tr>\n",
                            "    <tr>\n",
                            "      <th>3</th>\n",
                            "      <td>55180</td>\n",
                            "      <td>lwaxana</td>\n",
                            "      <td>21</td>\n",
                            "    </tr>\n",
                            "    <tr>\n",
                            "      <th>4</th>\n",
                            "      <td>55060</td>\n",
                            "      <td>lwaxana</td>\n",
                            "      <td>21</td>\n",
                            "    </tr>\n",
                            "  </tbody>\n",
                            "</table>\n",
                            "</div>"
                        ],
                        "text/plain": [
                            "    index    query  ranking\n",
                            "0  113689  lwaxana       21\n",
                            "1  113558  lwaxana       21\n",
                            "2  113532  lwaxana       21\n",
                            "3   55180  lwaxana       21\n",
                            "4   55060  lwaxana       21"
                        ]
                    },
                    "execution_count": 22,
                    "metadata": {},
                    "output_type": "execute_result"
                }
            ],
            "source": [
                "# read in ratings\n",
                "ratings = pd.read_csv('skyeler_ranking_data.csv',index_col=0)\n",
                "ratings.drop(columns=['Unnamed: 0','quote'],inplace=True)\n",
                "ratings.columns=['index','query','ranking']\n",
                "ratings.ranking = ratings.ranking.apply(lambda z: ratings.ranking.max()+1 if z < 0 else z)\n",
                "ratings.head()"
            ]
        },
        {
            "cell_type": "code",
            "execution_count": null,
            "metadata": {},
            "outputs": [],
            "source": [
                "# get index column for embeddings\n",
                "embedding_df=embedding_df.reset_index()"
            ]
        },
        {
            "cell_type": "code",
            "execution_count": null,
            "metadata": {},
            "outputs": [
                {
                    "data": {
                        "text/html": [
                            "<div>\n",
                            "<style scoped>\n",
                            "    .dataframe tbody tr th:only-of-type {\n",
                            "        vertical-align: middle;\n",
                            "    }\n",
                            "\n",
                            "    .dataframe tbody tr th {\n",
                            "        vertical-align: top;\n",
                            "    }\n",
                            "\n",
                            "    .dataframe thead th {\n",
                            "        text-align: right;\n",
                            "    }\n",
                            "</style>\n",
                            "<table border=\"1\" class=\"dataframe\">\n",
                            "  <thead>\n",
                            "    <tr style=\"text-align: right;\">\n",
                            "      <th></th>\n",
                            "      <th>index</th>\n",
                            "      <th>query</th>\n",
                            "      <th>ranking</th>\n",
                            "      <th>0</th>\n",
                            "      <th>1</th>\n",
                            "      <th>2</th>\n",
                            "      <th>3</th>\n",
                            "      <th>4</th>\n",
                            "      <th>5</th>\n",
                            "      <th>6</th>\n",
                            "      <th>...</th>\n",
                            "      <th>758</th>\n",
                            "      <th>759</th>\n",
                            "      <th>760</th>\n",
                            "      <th>761</th>\n",
                            "      <th>762</th>\n",
                            "      <th>763</th>\n",
                            "      <th>764</th>\n",
                            "      <th>765</th>\n",
                            "      <th>766</th>\n",
                            "      <th>767</th>\n",
                            "    </tr>\n",
                            "  </thead>\n",
                            "  <tbody>\n",
                            "    <tr>\n",
                            "      <th>0</th>\n",
                            "      <td>113689</td>\n",
                            "      <td>lwaxana</td>\n",
                            "      <td>21</td>\n",
                            "      <td>0.018398</td>\n",
                            "      <td>0.012873</td>\n",
                            "      <td>-0.024242</td>\n",
                            "      <td>0.002963</td>\n",
                            "      <td>0.049414</td>\n",
                            "      <td>0.093950</td>\n",
                            "      <td>-0.004741</td>\n",
                            "      <td>...</td>\n",
                            "      <td>0.009880</td>\n",
                            "      <td>-0.042633</td>\n",
                            "      <td>-0.056167</td>\n",
                            "      <td>0.008068</td>\n",
                            "      <td>0.013000</td>\n",
                            "      <td>-0.046821</td>\n",
                            "      <td>0.00999</td>\n",
                            "      <td>0.005621</td>\n",
                            "      <td>0.028357</td>\n",
                            "      <td>0.019484</td>\n",
                            "    </tr>\n",
                            "    <tr>\n",
                            "      <th>1</th>\n",
                            "      <td>113558</td>\n",
                            "      <td>lwaxana</td>\n",
                            "      <td>21</td>\n",
                            "      <td>0.016721</td>\n",
                            "      <td>0.024398</td>\n",
                            "      <td>-0.030568</td>\n",
                            "      <td>-0.013274</td>\n",
                            "      <td>0.042874</td>\n",
                            "      <td>0.059577</td>\n",
                            "      <td>0.034213</td>\n",
                            "      <td>...</td>\n",
                            "      <td>0.011101</td>\n",
                            "      <td>-0.056366</td>\n",
                            "      <td>-0.052283</td>\n",
                            "      <td>0.000956</td>\n",
                            "      <td>0.000591</td>\n",
                            "      <td>-0.030117</td>\n",
                            "      <td>-0.00134</td>\n",
                            "      <td>0.000045</td>\n",
                            "      <td>0.005712</td>\n",
                            "      <td>0.018245</td>\n",
                            "    </tr>\n",
                            "    <tr>\n",
                            "      <th>2</th>\n",
                            "      <td>113532</td>\n",
                            "      <td>lwaxana</td>\n",
                            "      <td>21</td>\n",
                            "      <td>0.016721</td>\n",
                            "      <td>0.024398</td>\n",
                            "      <td>-0.030568</td>\n",
                            "      <td>-0.013274</td>\n",
                            "      <td>0.042874</td>\n",
                            "      <td>0.059577</td>\n",
                            "      <td>0.034213</td>\n",
                            "      <td>...</td>\n",
                            "      <td>0.011101</td>\n",
                            "      <td>-0.056366</td>\n",
                            "      <td>-0.052283</td>\n",
                            "      <td>0.000956</td>\n",
                            "      <td>0.000591</td>\n",
                            "      <td>-0.030117</td>\n",
                            "      <td>-0.00134</td>\n",
                            "      <td>0.000045</td>\n",
                            "      <td>0.005711</td>\n",
                            "      <td>0.018245</td>\n",
                            "    </tr>\n",
                            "    <tr>\n",
                            "      <th>3</th>\n",
                            "      <td>55180</td>\n",
                            "      <td>lwaxana</td>\n",
                            "      <td>21</td>\n",
                            "      <td>0.018398</td>\n",
                            "      <td>0.012873</td>\n",
                            "      <td>-0.024242</td>\n",
                            "      <td>0.002963</td>\n",
                            "      <td>0.049414</td>\n",
                            "      <td>0.093950</td>\n",
                            "      <td>-0.004741</td>\n",
                            "      <td>...</td>\n",
                            "      <td>0.009880</td>\n",
                            "      <td>-0.042633</td>\n",
                            "      <td>-0.056167</td>\n",
                            "      <td>0.008068</td>\n",
                            "      <td>0.013000</td>\n",
                            "      <td>-0.046821</td>\n",
                            "      <td>0.00999</td>\n",
                            "      <td>0.005621</td>\n",
                            "      <td>0.028357</td>\n",
                            "      <td>0.019484</td>\n",
                            "    </tr>\n",
                            "    <tr>\n",
                            "      <th>4</th>\n",
                            "      <td>55060</td>\n",
                            "      <td>lwaxana</td>\n",
                            "      <td>21</td>\n",
                            "      <td>0.018398</td>\n",
                            "      <td>0.012873</td>\n",
                            "      <td>-0.024242</td>\n",
                            "      <td>0.002963</td>\n",
                            "      <td>0.049414</td>\n",
                            "      <td>0.093950</td>\n",
                            "      <td>-0.004741</td>\n",
                            "      <td>...</td>\n",
                            "      <td>0.009880</td>\n",
                            "      <td>-0.042633</td>\n",
                            "      <td>-0.056167</td>\n",
                            "      <td>0.008068</td>\n",
                            "      <td>0.013000</td>\n",
                            "      <td>-0.046821</td>\n",
                            "      <td>0.00999</td>\n",
                            "      <td>0.005621</td>\n",
                            "      <td>0.028357</td>\n",
                            "      <td>0.019484</td>\n",
                            "    </tr>\n",
                            "  </tbody>\n",
                            "</table>\n",
                            "<p>5 rows × 771 columns</p>\n",
                            "</div>"
                        ],
                        "text/plain": [
                            "    index    query  ranking         0         1         2         3         4  \\\n",
                            "0  113689  lwaxana       21  0.018398  0.012873 -0.024242  0.002963  0.049414   \n",
                            "1  113558  lwaxana       21  0.016721  0.024398 -0.030568 -0.013274  0.042874   \n",
                            "2  113532  lwaxana       21  0.016721  0.024398 -0.030568 -0.013274  0.042874   \n",
                            "3   55180  lwaxana       21  0.018398  0.012873 -0.024242  0.002963  0.049414   \n",
                            "4   55060  lwaxana       21  0.018398  0.012873 -0.024242  0.002963  0.049414   \n",
                            "\n",
                            "          5         6  ...       758       759       760       761       762  \\\n",
                            "0  0.093950 -0.004741  ...  0.009880 -0.042633 -0.056167  0.008068  0.013000   \n",
                            "1  0.059577  0.034213  ...  0.011101 -0.056366 -0.052283  0.000956  0.000591   \n",
                            "2  0.059577  0.034213  ...  0.011101 -0.056366 -0.052283  0.000956  0.000591   \n",
                            "3  0.093950 -0.004741  ...  0.009880 -0.042633 -0.056167  0.008068  0.013000   \n",
                            "4  0.093950 -0.004741  ...  0.009880 -0.042633 -0.056167  0.008068  0.013000   \n",
                            "\n",
                            "        763      764       765       766       767  \n",
                            "0 -0.046821  0.00999  0.005621  0.028357  0.019484  \n",
                            "1 -0.030117 -0.00134  0.000045  0.005712  0.018245  \n",
                            "2 -0.030117 -0.00134  0.000045  0.005711  0.018245  \n",
                            "3 -0.046821  0.00999  0.005621  0.028357  0.019484  \n",
                            "4 -0.046821  0.00999  0.005621  0.028357  0.019484  \n",
                            "\n",
                            "[5 rows x 771 columns]"
                        ]
                    },
                    "execution_count": 25,
                    "metadata": {},
                    "output_type": "execute_result"
                }
            ],
            "source": [
                "# join the data\n",
                "ratings_embeddings = ratings.merge(embedding_df,on=['index'],how='left')\n",
                "ratings_embeddings.head()"
            ]
        },
        {
            "cell_type": "code",
            "execution_count": 26,
            "metadata": {},
            "outputs": [],
            "source": [
                "# train test split my data\n",
                "train, test = train_test_split(ratings_embeddings,test_size=.15,random_state=56)\n",
                "# sort my train values\n",
                "train = train.sort_values('query')\n",
                "test = test.sort_values('query')"
            ]
        },
        {
            "cell_type": "code",
            "execution_count": 31,
            "metadata": {},
            "outputs": [],
            "source": [
                "train_y = list(train['ranking'])\n",
                "train_groups = train['query'].value_counts().reset_index().sort_values('query')['count'].values\n",
                "train_X = train.drop(columns=['index','query','ranking'])"
            ]
        },
        {
            "cell_type": "code",
            "execution_count": 36,
            "metadata": {},
            "outputs": [],
            "source": [
                "test_y = list(test['ranking'])\n",
                "test_groups = test['query'].value_counts().reset_index().sort_values('query')['count'].values\n",
                "test_X = test.drop(columns=['index','query','ranking'])"
            ]
        },
        {
            "cell_type": "code",
            "execution_count": 35,
            "metadata": {},
            "outputs": [],
            "source": [
                "# train_X is already prepared bc of the vectors!"
            ]
        },
        {
            "cell_type": "code",
            "execution_count": 38,
            "metadata": {},
            "outputs": [],
            "source": [
                "train_data =lgb.Dataset(train_X, label=train_y, group=train_groups,params={'min_data_in_leaf':1})\n",
                "valid_data = lgb.Dataset(test_X,label=test_y,group=test_groups)"
            ]
        },
        {
            "cell_type": "code",
            "execution_count": 39,
            "metadata": {},
            "outputs": [],
            "source": [
                "params = {\n",
                "    'objective': 'lambdarank',\n",
                "    'metric': 'ndcg',\n",
                "    'learning_rate': 0.01,\n",
                "    'num_leaves': 19, # 31\n",
                "    'task':'train',\n",
                "    # 'feature_pre_filter':False,\n",
                "    \"num_leaves\": 255,\n",
                "    \"feature_pre_filter\": False,\n",
                "#   \"min_data_in_leaf\": 1,\n",
                "    'max_depth':40,\n",
                "    'verbose':-1\n",
                "    # 'max_depth':-1\n",
                "}\n",
                "res = {}"
            ]
        },
        {
            "cell_type": "code",
            "execution_count": 40,
            "metadata": {},
            "outputs": [],
            "source": [
                "ranker = lgb.train(params, train_data, num_boost_round=250,valid_sets=[valid_data])"
            ]
        },
        {
            "cell_type": "code",
            "execution_count": 41,
            "metadata": {},
            "outputs": [
                {
                    "data": {
                        "text/plain": [
                            "defaultdict(collections.OrderedDict,\n",
                            "            {'valid_0': OrderedDict([('ndcg@1', 0.8278325829572262),\n",
                            "                          ('ndcg@2', 0.8748111947107955),\n",
                            "                          ('ndcg@3', 0.9000711937286457),\n",
                            "                          ('ndcg@4', 0.9101365714504701),\n",
                            "                          ('ndcg@5', 0.9225574551310549)])})"
                        ]
                    },
                    "execution_count": 41,
                    "metadata": {},
                    "output_type": "execute_result"
                }
            ],
            "source": [
                "ranker.best_score"
            ]
        }
    ],
    "metadata": {
        "kernelspec": {
            "display_name": "base",
            "language": "python",
            "name": "python3"
        },
        "language_info": {
            "codemirror_mode": {
                "name": "ipython",
                "version": 3
            },
            "file_extension": ".py",
            "mimetype": "text/x-python",
            "name": "python",
            "nbconvert_exporter": "python",
            "pygments_lexer": "ipython3",
            "version": "3.12.7"
        }
    },
    "nbformat": 4,
    "nbformat_minor": 2
}
