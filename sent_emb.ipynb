{
    "cells": [
        {
            "cell_type": "markdown",
            "metadata": {},
            "source": [
                "# Sentence Embeddings\n",
                "\n",
                "Run this code to get the sentence embeddings for the script data. The file is too large for github, so you can generate it here."
            ]
        },
        {
            "cell_type": "code",
            "execution_count": 12,
            "metadata": {},
            "outputs": [],
            "source": [
                "from sentence_transformers import SentenceTransformer\n",
                "import pandas as pd\n",
                "import re\n",
                "import numpy as np"
            ]
        },
        {
            "cell_type": "code",
            "execution_count": 3,
            "metadata": {},
            "outputs": [
                {
                    "data": {
                        "text/plain": [
                            "[\"   You know, Morn -- there's nothing    quite as invigorating as breakfast    in a bar. Where else can you get    raw slug livers first thing in the    morning?\",\n",
                            " \"   What's this?\",\n",
                            " '   What do you mean, \"what\\'s this?\"    It\\'s puree of beetle.',\n",
                            " \"   I didn't order it.\",\n",
                            " '   Of course you \"didn\\'t order it\" --    you don\\'t need to order it. You    have it after work every morning.']"
                        ]
                    },
                    "execution_count": 3,
                    "metadata": {},
                    "output_type": "execute_result"
                }
            ],
            "source": [
                "# open dataframe\n",
                "complete = pd.read_csv('https://scmcqueen.github.io/StarTrekScriptData/complete_data.csv')\n",
                "\n",
                "# get sentences\n",
                "sentences = list(complete['quote'])\n",
                "\n",
                "# preview\n",
                "sentences[:5]"
            ]
        },
        {
            "cell_type": "code",
            "execution_count": 4,
            "metadata": {},
            "outputs": [],
            "source": [
                "# load my girl roberta\n",
                "model = SentenceTransformer('sentence-transformers/all-distilroberta-v1')"
            ]
        },
        {
            "cell_type": "code",
            "execution_count": 5,
            "metadata": {},
            "outputs": [],
            "source": [
                "embeddings = model.encode(sentences)\n",
                "# takes 4 minutes to run"
            ]
        },
        {
            "cell_type": "code",
            "execution_count": null,
            "metadata": {},
            "outputs": [
                {
                    "data": {
                        "text/html": [
                            "<div>\n",
                            "<style scoped>\n",
                            "    .dataframe tbody tr th:only-of-type {\n",
                            "        vertical-align: middle;\n",
                            "    }\n",
                            "\n",
                            "    .dataframe tbody tr th {\n",
                            "        vertical-align: top;\n",
                            "    }\n",
                            "\n",
                            "    .dataframe thead th {\n",
                            "        text-align: right;\n",
                            "    }\n",
                            "</style>\n",
                            "<table border=\"1\" class=\"dataframe\">\n",
                            "  <thead>\n",
                            "    <tr style=\"text-align: right;\">\n",
                            "      <th></th>\n",
                            "      <th>0</th>\n",
                            "      <th>1</th>\n",
                            "      <th>2</th>\n",
                            "      <th>3</th>\n",
                            "      <th>4</th>\n",
                            "      <th>5</th>\n",
                            "      <th>6</th>\n",
                            "      <th>7</th>\n",
                            "      <th>8</th>\n",
                            "      <th>9</th>\n",
                            "      <th>...</th>\n",
                            "      <th>758</th>\n",
                            "      <th>759</th>\n",
                            "      <th>760</th>\n",
                            "      <th>761</th>\n",
                            "      <th>762</th>\n",
                            "      <th>763</th>\n",
                            "      <th>764</th>\n",
                            "      <th>765</th>\n",
                            "      <th>766</th>\n",
                            "      <th>767</th>\n",
                            "    </tr>\n",
                            "  </thead>\n",
                            "  <tbody>\n",
                            "    <tr>\n",
                            "      <th>0</th>\n",
                            "      <td>-0.014900</td>\n",
                            "      <td>-0.071977</td>\n",
                            "      <td>-0.009478</td>\n",
                            "      <td>-0.029031</td>\n",
                            "      <td>0.014188</td>\n",
                            "      <td>0.016394</td>\n",
                            "      <td>0.027681</td>\n",
                            "      <td>-0.037291</td>\n",
                            "      <td>-0.006358</td>\n",
                            "      <td>-0.004826</td>\n",
                            "      <td>...</td>\n",
                            "      <td>0.001110</td>\n",
                            "      <td>0.012414</td>\n",
                            "      <td>0.030341</td>\n",
                            "      <td>-0.003418</td>\n",
                            "      <td>-0.008822</td>\n",
                            "      <td>0.033325</td>\n",
                            "      <td>-0.001755</td>\n",
                            "      <td>0.068690</td>\n",
                            "      <td>0.020250</td>\n",
                            "      <td>0.039753</td>\n",
                            "    </tr>\n",
                            "    <tr>\n",
                            "      <th>1</th>\n",
                            "      <td>-0.007164</td>\n",
                            "      <td>-0.013978</td>\n",
                            "      <td>-0.013652</td>\n",
                            "      <td>0.003309</td>\n",
                            "      <td>0.034851</td>\n",
                            "      <td>0.060882</td>\n",
                            "      <td>0.048588</td>\n",
                            "      <td>0.017505</td>\n",
                            "      <td>0.007778</td>\n",
                            "      <td>-0.010418</td>\n",
                            "      <td>...</td>\n",
                            "      <td>0.022243</td>\n",
                            "      <td>0.049582</td>\n",
                            "      <td>-0.008420</td>\n",
                            "      <td>-0.030691</td>\n",
                            "      <td>-0.000645</td>\n",
                            "      <td>-0.050140</td>\n",
                            "      <td>0.083585</td>\n",
                            "      <td>-0.046941</td>\n",
                            "      <td>-0.020030</td>\n",
                            "      <td>0.012742</td>\n",
                            "    </tr>\n",
                            "    <tr>\n",
                            "      <th>2</th>\n",
                            "      <td>-0.049198</td>\n",
                            "      <td>-0.035306</td>\n",
                            "      <td>0.008143</td>\n",
                            "      <td>0.088346</td>\n",
                            "      <td>0.093932</td>\n",
                            "      <td>0.025349</td>\n",
                            "      <td>-0.010510</td>\n",
                            "      <td>-0.015539</td>\n",
                            "      <td>-0.002362</td>\n",
                            "      <td>-0.013975</td>\n",
                            "      <td>...</td>\n",
                            "      <td>0.003785</td>\n",
                            "      <td>-0.010067</td>\n",
                            "      <td>0.007732</td>\n",
                            "      <td>-0.049809</td>\n",
                            "      <td>0.051560</td>\n",
                            "      <td>0.024296</td>\n",
                            "      <td>0.035107</td>\n",
                            "      <td>-0.066092</td>\n",
                            "      <td>-0.020333</td>\n",
                            "      <td>-0.009799</td>\n",
                            "    </tr>\n",
                            "    <tr>\n",
                            "      <th>3</th>\n",
                            "      <td>-0.043590</td>\n",
                            "      <td>-0.021896</td>\n",
                            "      <td>-0.019405</td>\n",
                            "      <td>0.027361</td>\n",
                            "      <td>-0.020507</td>\n",
                            "      <td>0.035430</td>\n",
                            "      <td>-0.040713</td>\n",
                            "      <td>0.043625</td>\n",
                            "      <td>0.065613</td>\n",
                            "      <td>0.002796</td>\n",
                            "      <td>...</td>\n",
                            "      <td>0.009547</td>\n",
                            "      <td>0.010854</td>\n",
                            "      <td>-0.027765</td>\n",
                            "      <td>0.049275</td>\n",
                            "      <td>0.023973</td>\n",
                            "      <td>0.004445</td>\n",
                            "      <td>0.072360</td>\n",
                            "      <td>-0.029266</td>\n",
                            "      <td>-0.031327</td>\n",
                            "      <td>0.004318</td>\n",
                            "    </tr>\n",
                            "    <tr>\n",
                            "      <th>4</th>\n",
                            "      <td>-0.053526</td>\n",
                            "      <td>0.001219</td>\n",
                            "      <td>0.001101</td>\n",
                            "      <td>0.031380</td>\n",
                            "      <td>-0.008443</td>\n",
                            "      <td>0.052395</td>\n",
                            "      <td>-0.043175</td>\n",
                            "      <td>-0.038514</td>\n",
                            "      <td>-0.012206</td>\n",
                            "      <td>0.025206</td>\n",
                            "      <td>...</td>\n",
                            "      <td>-0.040711</td>\n",
                            "      <td>0.010254</td>\n",
                            "      <td>0.007623</td>\n",
                            "      <td>0.042096</td>\n",
                            "      <td>-0.003285</td>\n",
                            "      <td>0.002070</td>\n",
                            "      <td>0.003425</td>\n",
                            "      <td>-0.044013</td>\n",
                            "      <td>0.021388</td>\n",
                            "      <td>0.001928</td>\n",
                            "    </tr>\n",
                            "  </tbody>\n",
                            "</table>\n",
                            "<p>5 rows × 768 columns</p>\n",
                            "</div>"
                        ],
                        "text/plain": [
                            "        0         1         2         3         4         5         6    \\\n",
                            "0 -0.014900 -0.071977 -0.009478 -0.029031  0.014188  0.016394  0.027681   \n",
                            "1 -0.007164 -0.013978 -0.013652  0.003309  0.034851  0.060882  0.048588   \n",
                            "2 -0.049198 -0.035306  0.008143  0.088346  0.093932  0.025349 -0.010510   \n",
                            "3 -0.043590 -0.021896 -0.019405  0.027361 -0.020507  0.035430 -0.040713   \n",
                            "4 -0.053526  0.001219  0.001101  0.031380 -0.008443  0.052395 -0.043175   \n",
                            "\n",
                            "        7         8         9    ...       758       759       760       761  \\\n",
                            "0 -0.037291 -0.006358 -0.004826  ...  0.001110  0.012414  0.030341 -0.003418   \n",
                            "1  0.017505  0.007778 -0.010418  ...  0.022243  0.049582 -0.008420 -0.030691   \n",
                            "2 -0.015539 -0.002362 -0.013975  ...  0.003785 -0.010067  0.007732 -0.049809   \n",
                            "3  0.043625  0.065613  0.002796  ...  0.009547  0.010854 -0.027765  0.049275   \n",
                            "4 -0.038514 -0.012206  0.025206  ... -0.040711  0.010254  0.007623  0.042096   \n",
                            "\n",
                            "        762       763       764       765       766       767  \n",
                            "0 -0.008822  0.033325 -0.001755  0.068690  0.020250  0.039753  \n",
                            "1 -0.000645 -0.050140  0.083585 -0.046941 -0.020030  0.012742  \n",
                            "2  0.051560  0.024296  0.035107 -0.066092 -0.020333 -0.009799  \n",
                            "3  0.023973  0.004445  0.072360 -0.029266 -0.031327  0.004318  \n",
                            "4 -0.003285  0.002070  0.003425 -0.044013  0.021388  0.001928  \n",
                            "\n",
                            "[5 rows x 768 columns]"
                        ]
                    },
                    "execution_count": 8,
                    "metadata": {},
                    "output_type": "execute_result"
                }
            ],
            "source": [
                "embedding_df = pd.DataFrame(embeddings)\n",
                "# embedding_df.to_csv('st_embeddings.csv')\n",
                "embedding_df.head()"
            ]
        },
        {
            "cell_type": "markdown",
            "metadata": {},
            "source": [
                "# Sentence Embeddings\n",
                "\n",
                "Run this code to get the sentiment for the script data. This takes a long time to run, so I saved a copy as complete_sentiment.csv."
            ]
        },
        {
            "cell_type": "code",
            "execution_count": null,
            "metadata": {},
            "outputs": [],
            "source": [
                "import nltk\n",
                "from nltk.sentiment.vader import SentimentIntensityAnalyzer\n",
                "import spacy\n",
                "import pandas as pd\n",
                "from spacy.tokens import Doc\n",
                "import csv"
            ]
        },
        {
            "cell_type": "code",
            "execution_count": null,
            "metadata": {},
            "outputs": [],
            "source": [
                "sent_analyzer = SentimentIntensityAnalyzer()\n",
                "def sentiment_scores(docx):\n",
                "    global sent_analyzer\n",
                "    return sent_analyzer.polarity_scores(docx.text)\n",
                "\n",
                "def sentiment_analysis(input:str):\n",
                "    global sent_analyzer\n",
                "    # set the sentiment analysis functions\n",
                "    nlp = spacy.load(\"en_core_web_sm\")\n",
                "    return(nlp(input)._.sentimenter['compound'])"
            ]
        },
        {
            "cell_type": "code",
            "execution_count": 5,
            "metadata": {},
            "outputs": [],
            "source": [
                "# sentiment analysis\n",
                "Doc.set_extension(\"sentimenter\",getter=sentiment_scores)"
            ]
        },
        {
            "cell_type": "code",
            "execution_count": 7,
            "metadata": {},
            "outputs": [
                {
                    "data": {
                        "text/plain": [
                            "0.4572"
                        ]
                    },
                    "execution_count": 7,
                    "metadata": {},
                    "output_type": "execute_result"
                }
            ],
            "source": [
                "# demonstrate function\n",
                "sentiment_analysis('Data science is so cool')"
            ]
        },
        {
            "cell_type": "code",
            "execution_count": 13,
            "metadata": {},
            "outputs": [],
            "source": [
                "# load the data & neaten it up\n",
                "complete = pd.read_csv('https://scmcqueen.github.io/StarTrekScriptData/complete_data.csv').reset_index()\n",
                "complete.columns = ['index','line','character', 'quote', 'scene', 'location', 'view',\n",
                "       'episode', 'date', 'series', 'file']\n",
                "complete['quote']=complete['quote'].apply(lambda text: \" \".join(text.split()))\n",
                "complete['character']=complete['character'].fillna('NA')\n",
                "complete['character']=complete['character'].apply(lambda x: x.replace('\"','').replace('\\t',''))"
            ]
        },
        {
            "cell_type": "markdown",
            "metadata": {},
            "source": [
                "I use a sentiment mapping dictionary because it takes a long time to run the sentiment analysis. This way"
            ]
        },
        {
            "cell_type": "code",
            "execution_count": null,
            "metadata": {},
            "outputs": [],
            "source": [
                "# open the current sentiment map\n",
                "with open(\"sent_map.csv\", mode=\"r\") as file:\n",
                "    reader = csv.DictReader(file)\n",
                "    sent_data = [row for row in reader][0]  # List of dictionaries\n",
                "\n",
                "sent_data={int(k):float(v) for k,v in sent_data.items()}"
            ]
        },
        {
            "cell_type": "code",
            "execution_count": 21,
            "metadata": {},
            "outputs": [
                {
                    "data": {
                        "text/plain": [
                            "2"
                        ]
                    },
                    "execution_count": 21,
                    "metadata": {},
                    "output_type": "execute_result"
                }
            ],
            "source": [
                "8%6"
            ]
        },
        {
            "cell_type": "code",
            "execution_count": null,
            "metadata": {},
            "outputs": [
                {
                    "name": "stdout",
                    "output_type": "stream",
                    "text": [
                        "<class 'int'>\n"
                    ]
                }
            ],
            "source": [
                "# for each index, check if it is in the sentiment map. If not, calculate it\n",
                "counter = 0\n",
                "for x in list(complete['index']):\n",
                "    print(x)\n",
                "    counter +=1\n",
                "    # check if it is already mapped\n",
                "    if x in sent_data.keys():\n",
                "        continue\n",
                "\n",
                "    # get the quote & sentiment\n",
                "    quote = complete.iloc[x]['quote']\n",
                "    q_sent = sentiment_analysis(quote)\n",
                "    sent_data[x]=q_sent\n",
                "\n",
                "    # if we did 100, save it\n",
                "    if x%100==0:\n",
                "        print(x)\n",
                "        with open(\"sent_map.csv\", \"w\", newline=\"\") as f:\n",
                "            w = csv.DictWriter(f, sent_data.keys())\n",
                "            w.writeheader()\n",
                "            w.writerow(sent_data)\n",
                "\n",
                "# once we are done, save it\n",
                "with open(\"sent_map.csv\", \"w\", newline=\"\") as f:\n",
                "            w = csv.DictWriter(f, sent_data.keys())\n",
                "            w.writeheader()\n",
                "            w.writerow(sent_data)"
            ]
        },
        {
            "cell_type": "code",
            "execution_count": null,
            "metadata": {},
            "outputs": [],
            "source": [
                "# save the sentiment data with the full data\n",
                "complete['sentiment']=complete['index'].apply(lambda x: sent_data[x])\n",
                "complete.to_csv('complete_sentiment.csv')"
            ]
        }
    ],
    "metadata": {
        "kernelspec": {
            "display_name": "base",
            "language": "python",
            "name": "python3"
        },
        "language_info": {
            "codemirror_mode": {
                "name": "ipython",
                "version": 3
            },
            "file_extension": ".py",
            "mimetype": "text/x-python",
            "name": "python",
            "nbconvert_exporter": "python",
            "pygments_lexer": "ipython3",
            "version": "3.12.7"
        }
    },
    "nbformat": 4,
    "nbformat_minor": 2
}
